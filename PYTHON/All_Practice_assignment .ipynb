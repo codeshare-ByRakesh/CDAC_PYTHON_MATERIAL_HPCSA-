{
 "cells": [
  {
   "cell_type": "markdown",
   "id": "b1a20c4f-666b-4c19-9335-504c3d9fa875",
   "metadata": {},
   "source": []
  },
  {
   "cell_type": "markdown",
   "id": "73ac00f2-550e-4670-bbda-8d9431ea2519",
   "metadata": {
    "jp-MarkdownHeadingCollapsed": true
   },
   "source": [
    "# Lab Practice on 24sep"
   ]
  },
  {
   "cell_type": "markdown",
   "id": "ec86b399-89f8-4363-b337-73fe4880e8fd",
   "metadata": {},
   "source": [
    "## Variables"
   ]
  },
  {
   "cell_type": "code",
   "execution_count": 14,
   "id": "a153b5a1-09aa-4e71-a604-acba10315510",
   "metadata": {},
   "outputs": [
    {
     "name": "stdout",
     "output_type": "stream",
     "text": [
      "1 1.2 True Hello\n"
     ]
    }
   ],
   "source": [
    "a=1\n",
    "b=1.2\n",
    "c=True\n",
    "d=\"Hello\"\n",
    "print(a,b,c,d)\n",
    "\n"
   ]
  },
  {
   "cell_type": "markdown",
   "id": "ce806bb1-b1da-4fc5-9b60-ee51c9f6b4d3",
   "metadata": {},
   "source": [
    "## Swaping of two numbers Method-1"
   ]
  },
  {
   "cell_type": "code",
   "execution_count": 15,
   "id": "b8b3a094-607a-4329-b5e6-686e5fc04638",
   "metadata": {},
   "outputs": [
    {
     "name": "stdout",
     "output_type": "stream",
     "text": [
      "value of a is 20\n",
      "value of b is 10\n"
     ]
    }
   ],
   "source": [
    "a=10\n",
    "b=20\n",
    "c=a\n",
    "a=b\n",
    "b=c\n",
    "print(f\"value of a is {a}\")\n",
    "print(f\"value of b is {b}\")\n"
   ]
  },
  {
   "cell_type": "markdown",
   "id": "62fc1396-74ff-4a3a-9237-986ae8bf8b28",
   "metadata": {},
   "source": [
    "## Swaping of two numbers Method-2"
   ]
  },
  {
   "cell_type": "code",
   "execution_count": 16,
   "id": "initial_id",
   "metadata": {},
   "outputs": [
    {
     "name": "stdout",
     "output_type": "stream",
     "text": [
      "value of a is 20\n",
      "value of b is 10\n"
     ]
    }
   ],
   "source": [
    "a=10\n",
    "b=20\n",
    "a=a+b\n",
    "b=a-b\n",
    "a=a-b\n",
    "print(f\"value of a is {a}\")\n",
    "print(f\"value of b is {b}\")\n"
   ]
  },
  {
   "cell_type": "markdown",
   "id": "e868fa1f-f071-47ad-8c96-b15b92401ede",
   "metadata": {},
   "source": [
    "## Arithmetic Operators"
   ]
  },
  {
   "cell_type": "code",
   "execution_count": 17,
   "id": "8f40689f-ae0a-488a-b8fc-edc9a18f5334",
   "metadata": {},
   "outputs": [
    {
     "name": "stdout",
     "output_type": "stream",
     "text": [
      " Addition of 30 and 20 is 50\n"
     ]
    }
   ],
   "source": [
    "#1 Addition\n",
    "\n",
    "num1=30\n",
    "num2=20\n",
    "sum=num1+num2\n",
    "print(f\" Addition of {num1} and {num2} is {sum}\")"
   ]
  },
  {
   "cell_type": "code",
   "execution_count": 18,
   "id": "fa2fc5f1-0be5-423d-bb8f-8bc7c81a5afc",
   "metadata": {},
   "outputs": [
    {
     "name": "stdout",
     "output_type": "stream",
     "text": [
      " Subtraction of 30 and 20 is 10\n"
     ]
    }
   ],
   "source": [
    "#2 Subtraction\n",
    "\n",
    "sum=num1-num2\n",
    "print(f\" Subtraction of {num1} and {num2} is {sum}\")"
   ]
  },
  {
   "cell_type": "code",
   "execution_count": 19,
   "id": "f0ae5239-faf2-4ee9-81ab-b6efc6fdb410",
   "metadata": {},
   "outputs": [
    {
     "name": "stdout",
     "output_type": "stream",
     "text": [
      " Multiplication of 30 and 20 is 600\n"
     ]
    }
   ],
   "source": [
    "#2 Multiplication\n",
    "\n",
    "sum=num1*num2\n",
    "print(f\" Multiplication of {num1} and {num2} is {sum}\")"
   ]
  },
  {
   "cell_type": "code",
   "execution_count": 20,
   "id": "bbc7a277-5c3e-4954-97d7-cc83c1fd2a96",
   "metadata": {},
   "outputs": [
    {
     "name": "stdout",
     "output_type": "stream",
     "text": [
      " Division of 30 and 20 is 1.5\n"
     ]
    }
   ],
   "source": [
    "#2 Division\n",
    "sum=num1/num2\n",
    "print(f\" Division of {num1} and {num2} is {sum}\")"
   ]
  },
  {
   "cell_type": "code",
   "execution_count": 21,
   "id": "d273abdf-aaa8-4322-90d1-bdbd2e600a2d",
   "metadata": {},
   "outputs": [
    {
     "name": "stdout",
     "output_type": "stream",
     "text": [
      " Division(discard float value) of 30 and 20 is 1.5\n"
     ]
    }
   ],
   "source": [
    " # gives you the integer part of the division, discarding any remainder.\n",
    "\n",
    "print(f\" Division(discard float value) of {num1} and {num2} is {sum}\")"
   ]
  },
  {
   "cell_type": "code",
   "execution_count": null,
   "id": "9627afa8-1010-44e8-8f03-9b090e4dbf21",
   "metadata": {},
   "outputs": [],
   "source": []
  },
  {
   "cell_type": "markdown",
   "id": "3014b6b3-a7d5-4e38-ab3c-ee6fc34aa427",
   "metadata": {},
   "source": [
    "## Typecasting : There are Two types"
   ]
  },
  {
   "cell_type": "code",
   "execution_count": 22,
   "id": "f7ba8b4f-541d-41db-9448-adcbd3e06ecd",
   "metadata": {},
   "outputs": [
    {
     "ename": "SyntaxError",
     "evalue": "unmatched ')' (1946174224.py, line 1)",
     "output_type": "error",
     "traceback": [
      "\u001b[1;36m  Cell \u001b[1;32mIn[22], line 1\u001b[1;36m\u001b[0m\n\u001b[1;33m    1)Implicit Typecasting\u001b[0m\n\u001b[1;37m     ^\u001b[0m\n\u001b[1;31mSyntaxError\u001b[0m\u001b[1;31m:\u001b[0m unmatched ')'\n"
     ]
    }
   ],
   "source": [
    "\n",
    "1)Implicit Typecasting\n",
    "2)Explicit Typecasting"
   ]
  },
  {
   "cell_type": "code",
   "execution_count": null,
   "id": "53c168e5-7923-40dc-adf6-d58914a49d07",
   "metadata": {},
   "outputs": [],
   "source": [
    "str1 = \"1\"\n",
    "print(type(str1))\n",
    "num= int(str1)\n",
    "print(num)\n",
    "print(type(num))"
   ]
  },
  {
   "cell_type": "markdown",
   "id": "e73b8c01-1fab-4aaf-aedb-92b1e2003063",
   "metadata": {},
   "source": [
    "## Assig-5   : Initialise 2 numbers, add them, print them."
   ]
  },
  {
   "cell_type": "code",
   "execution_count": null,
   "id": "61817051-489e-4d7a-b15e-3a5ba82664a8",
   "metadata": {},
   "outputs": [],
   "source": [
    "\n",
    "\n",
    "a=20\n",
    "b=30\n",
    "add=a+b\n",
    "print(add)\n",
    "\n"
   ]
  },
  {
   "cell_type": "markdown",
   "id": "20e004d4-cd42-4615-8c7f-251e7470bdad",
   "metadata": {},
   "source": [
    "## Assig-6   : Add an integer and a float, print result and type of result"
   ]
  },
  {
   "cell_type": "code",
   "execution_count": null,
   "id": "2a729012-9c52-49e4-9606-e6538ce9a50b",
   "metadata": {},
   "outputs": [],
   "source": [
    "\n",
    "a=10\n",
    "b=2.5\n",
    "add=a+b\n",
    "print(add)\n",
    "print(type(add))"
   ]
  },
  {
   "cell_type": "markdown",
   "id": "5d587804-7f41-4e6f-b930-97c4a50a4ab3",
   "metadata": {},
   "source": [
    "## Assig-7   : Iniitalise a float value,typecast it to a float and print its square"
   ]
  },
  {
   "cell_type": "code",
   "execution_count": null,
   "id": "2ef67cfa-6271-45a0-ae94-cd6503a34f30",
   "metadata": {},
   "outputs": [],
   "source": [
    "\n",
    "\n",
    "b=2.5\n",
    "square=b*b\n",
    "print(square)\n",
    "\n",
    "print(type(square))\n"
   ]
  },
  {
   "cell_type": "markdown",
   "id": "b13f4701-51b2-4a4f-afc3-33fcba3f6161",
   "metadata": {
    "jp-MarkdownHeadingCollapsed": true
   },
   "source": [
    "# Lab Practice on 25sep"
   ]
  },
  {
   "cell_type": "markdown",
   "id": "2e52df38-883f-4438-b112-b7f68ed29eba",
   "metadata": {},
   "source": [
    "### Assignment-1 using format Funtion (f)"
   ]
  },
  {
   "cell_type": "code",
   "execution_count": null,
   "id": "a1acdef2-f754-4b2a-b075-6a48a4c19be6",
   "metadata": {},
   "outputs": [],
   "source": [
    "\n",
    "firstname=input(\"enter the first name\")\n",
    "lastname=input(\"enter the last name\")\n",
    "\n",
    "print(f\"My name is {firstname} {lastname}\")"
   ]
  },
  {
   "cell_type": "markdown",
   "id": "9cb03aff-a04f-4b1e-953b-e692bb18b61d",
   "metadata": {},
   "source": [
    "## Assignment-2 Accept 2 string from user and print them with format funtion"
   ]
  },
  {
   "cell_type": "code",
   "execution_count": null,
   "id": "c0e9edb5-74ab-458f-a1d0-698f435f9b79",
   "metadata": {},
   "outputs": [],
   "source": [
    "\n",
    "str1=\"Hello\"\n",
    "str2=\"world\"\n",
    "print(f\"{str1} {str2}\")"
   ]
  },
  {
   "cell_type": "markdown",
   "id": "7720743b-89e4-4aac-aba8-00707be2af58",
   "metadata": {},
   "source": [
    "## Assignment-3  Accept two number from user and add them.print result to console (Typecasting into integer when taking user input.Because in Python when we take value from the user By deafult we get string )"
   ]
  },
  {
   "cell_type": "code",
   "execution_count": null,
   "id": "0176cef3-5045-4449-96a6-2f4690de9fa0",
   "metadata": {},
   "outputs": [],
   "source": [
    "\n",
    "a=int(input(\"enter first number\"))\n",
    "b=int(input(\"enter 2nd number\"))\n",
    "\n",
    "add=a+b\n",
    "print(f\"Addition of {a} and {b} is {add}\")"
   ]
  },
  {
   "cell_type": "markdown",
   "id": "7c45b16c-6ad7-4213-9679-4b797a21a37d",
   "metadata": {},
   "source": [
    "## Assig-4 Calculate are of circle"
   ]
  },
  {
   "cell_type": "code",
   "execution_count": null,
   "id": "f9e22f82-f89e-45e0-9deb-61e3813a48c6",
   "metadata": {},
   "outputs": [],
   "source": [
    "\n",
    "pi=3.14\n",
    "r=int(input(\"Enter the value of radius\"))\n",
    "area=pi*r*r\n",
    "print(f\"Area of Circle is {area}\")"
   ]
  },
  {
   "cell_type": "markdown",
   "id": "cdfe4aba-eee5-4a2c-a28d-41294da95451",
   "metadata": {},
   "source": [
    "## Assig-5 Calculate Saving of a person"
   ]
  },
  {
   "cell_type": "code",
   "execution_count": null,
   "id": "d4cb529b-d02b-4362-882c-aa76c95dce25",
   "metadata": {},
   "outputs": [],
   "source": [
    "\n",
    "income=float(input(\"enter monthly income\"))\n",
    "total_expense=float(input(\"enter Total monthly expense\"))\n",
    "total_saving=income-total_expense\n",
    "percentage_income=(total_saving/income)*100\n",
    "print(percentage_income)\n",
    "percentage_spent=(total_expense/income)*100\n",
    "print(percentage_spent)"
   ]
  },
  {
   "cell_type": "code",
   "execution_count": null,
   "id": "74d4ca4b-4164-44c8-a559-16d219cea5de",
   "metadata": {},
   "outputs": [],
   "source": [
    "# Assig-6 Format value to 2 decimal places"
   ]
  },
  {
   "cell_type": "code",
   "execution_count": null,
   "id": "94955493-a154-4b35-9136-96113797952b",
   "metadata": {},
   "outputs": [],
   "source": [
    "\n",
    "x=2.3436435\n",
    "print(f\"number value is: {x:.2f}\")\n"
   ]
  },
  {
   "cell_type": "markdown",
   "id": "39d2917e-0edb-482a-848b-8cfece2f7760",
   "metadata": {},
   "source": [
    "##  Assig-7 Check Number is Even or Odd using if else Staements"
   ]
  },
  {
   "cell_type": "code",
   "execution_count": null,
   "id": "411859a2-0203-4caa-a60e-b7c3c822bf2e",
   "metadata": {},
   "outputs": [],
   "source": [
    "\n",
    "num=int(input(\"enter the number\"))\n",
    "\n",
    "if num%2==0:\n",
    "    print(\"Number is Even\")\n",
    "else:\n",
    "    print(\"Number is Odd\")\n",
    "    "
   ]
  },
  {
   "cell_type": "markdown",
   "id": "c63999be-3c9a-4213-a47a-359f46bc62cc",
   "metadata": {},
   "source": [
    "## Assig-8 Check which Number is Greater"
   ]
  },
  {
   "cell_type": "code",
   "execution_count": null,
   "id": "02256685-2bd6-4f0c-a01f-5f85ceb65282",
   "metadata": {},
   "outputs": [],
   "source": [
    "\n",
    "num1=int(input(\"enter the number\"))\n",
    "num2=int(input(\"enter the number\"))\n",
    "if num1>num2:\n",
    "    print(\"Num1 is greater\")\n",
    "else:\n",
    "    print(\"Num2 is greater\")\n"
   ]
  },
  {
   "cell_type": "markdown",
   "id": "6a79a7ae-0d0f-4126-aba6-eaa12d94dd54",
   "metadata": {},
   "source": [
    "## Assig-9 Implement all Comparison Operator i.e Make Calculator using if and  elif "
   ]
  },
  {
   "cell_type": "code",
   "execution_count": null,
   "id": "91f70b41-ad59-49d2-a1e3-af1f8dc7866b",
   "metadata": {},
   "outputs": [],
   "source": [
    "\n",
    "\n",
    "num1=int(input(\"enter the number\"))\n",
    "num2=int(input(\"enter the number\"))\n",
    "\n",
    "operator=input(\"enter the Opertor to perform operation\")\n",
    "\n",
    "if operator==\"+\":\n",
    "    add=num1+num2\n",
    "    print(f\"Addition of {num1} and {num2} is {add} \")\n",
    "\n",
    "elif operator==\"-\":\n",
    "    sub=num1-num2\n",
    "    print(f\"Subtraction of {num1} and {num2} is {sub}\")\n",
    "\n",
    "elif operator==\"*\":\n",
    "    mul=num1*num2\n",
    "    print(f\"Multiplication of {num1} and {num2} is {mul} \")\n",
    "\n",
    "elif operator==\"/\":\n",
    "    div=num1/num2\n",
    "    print(f\"Division of {num1} and {num2} is {div} \")\n",
    "\n",
    "else:\n",
    "    print(\"Invalid operator\")\n",
    "\n",
    "\n",
    "\n",
    "\n"
   ]
  },
  {
   "cell_type": "markdown",
   "id": "090e1533-cd61-4203-94f6-ecea53965a51",
   "metadata": {},
   "source": [
    "## Assignment-10 Create a program that determines whether a given year is a Leap year or Not"
   ]
  },
  {
   "cell_type": "code",
   "execution_count": null,
   "id": "3a8a2f48-5da6-448b-8abf-1e3d7ff5bf39",
   "metadata": {},
   "outputs": [],
   "source": [
    "\n",
    "year=int(input(\"enter the year\"))\n",
    "if year%4==0:\n",
    "    print(f\"{year} is a leap year\")\n",
    "\n",
    "else:\n",
    "   print(f\"{year} is Not a leap year\")"
   ]
  },
  {
   "cell_type": "markdown",
   "id": "a7b4a363-fe72-4b3e-a170-82a69f690fa1",
   "metadata": {},
   "source": [
    "## While Loop Intro"
   ]
  },
  {
   "cell_type": "code",
   "execution_count": null,
   "id": "f3504233-523d-4a4b-bc7f-71b0d5c1e1b5",
   "metadata": {},
   "outputs": [],
   "source": [
    "# Print 1 to 10 numbers\n",
    "\n",
    "num=1\n",
    "while num<=10:\n",
    "    print(num,end=\" \")\n",
    "    num=num+1\n",
    "    "
   ]
  },
  {
   "cell_type": "markdown",
   "id": "117aabf3-eb43-44a5-8a51-fa59d019e585",
   "metadata": {},
   "source": [
    "## Range Function Into"
   ]
  },
  {
   "cell_type": "code",
   "execution_count": null,
   "id": "b432a85e-4e79-42c7-96c5-2227778f6a2b",
   "metadata": {},
   "outputs": [],
   "source": [
    "for i in range(1,20):\n",
    "    print(i+1)"
   ]
  },
  {
   "cell_type": "markdown",
   "id": "a376079b-00bd-4b84-a10a-a66056e085b2",
   "metadata": {},
   "source": [
    "## Assignment-8  write a program to generate and dislpay multiplication table of given number"
   ]
  },
  {
   "cell_type": "code",
   "execution_count": null,
   "id": "e69450e6-a8fd-41d1-a31b-1b50a730fabd",
   "metadata": {},
   "outputs": [],
   "source": [
    "num=int(input(\"Enter the number\"))\n",
    "i=1\n",
    "while i<=10:\n",
    "     print(f\"{num} * {i} = {num*i}\")\n",
    "     i=i+1\n",
    "    "
   ]
  },
  {
   "cell_type": "markdown",
   "id": "684f4ebf-2198-41be-b291-7aad469b1c05",
   "metadata": {},
   "source": [
    "## Assignment-9 Calculate the factorial of a given number."
   ]
  },
  {
   "cell_type": "code",
   "execution_count": null,
   "id": "000ed8b3-18e4-44eb-925f-5a2caa2f9cef",
   "metadata": {},
   "outputs": [],
   "source": [
    "num=int(input(\"Enter the number to find the factorial\"))\n",
    "num1=num\n",
    "fact=1\n",
    "while num>=1:\n",
    "    fact=fact*num\n",
    "    num=num-1\n",
    "print(f\"factorial of {num1} is ={fact}\")"
   ]
  },
  {
   "cell_type": "markdown",
   "id": "25f1a626-18dd-4907-ab8c-6c8cc6da5365",
   "metadata": {},
   "source": [
    "## Assignment-10 Calculate the sum of Number upto 1."
   ]
  },
  {
   "cell_type": "code",
   "execution_count": null,
   "id": "99266e98-0c9a-4d63-8e0b-8428c32a7334",
   "metadata": {},
   "outputs": [],
   "source": [
    "num=int(input(\"Enter the number to calculate sum\"))\n",
    "num1=num\n",
    "sum=1\n",
    "while num>1:\n",
    "    sum=sum+num\n",
    "    num=num-1\n",
    "print(f\"Sum of {num1}-1 is = {sum}\")"
   ]
  },
  {
   "cell_type": "markdown",
   "id": "eaa70bac-a935-4b10-9e2c-82f56bc1bfdc",
   "metadata": {},
   "source": [
    "## Assignment-11 Calculate the sum of digits given by user. Using Modulous and Floor Division"
   ]
  },
  {
   "cell_type": "code",
   "execution_count": null,
   "id": "ac0bfafd-c5a6-410d-ad48-b736dfb53d96",
   "metadata": {},
   "outputs": [],
   "source": [
    "num=int(input(\"Enter the number to sum of digits\"))\n",
    "sum=0\n",
    "while num>=1:\n",
    "    n=num%10\n",
    "    sum=sum+n\n",
    "    num=num//10\n",
    "print(sum)"
   ]
  },
  {
   "cell_type": "markdown",
   "id": "217ab507-f37f-4ebf-90f0-8c5b3b829783",
   "metadata": {},
   "source": [
    "## Range Function usese"
   ]
  },
  {
   "cell_type": "code",
   "execution_count": null,
   "id": "f69259ca-b202-4dc4-aa5d-f0af406fcb94",
   "metadata": {},
   "outputs": [],
   "source": [
    "# Print even no. using range\n",
    "\n",
    "for i in range(1,20+1):\n",
    "    print(i ,end=\" \")"
   ]
  },
  {
   "cell_type": "markdown",
   "id": "d777fe8f-6df9-4d8c-87f7-81178de723d8",
   "metadata": {},
   "source": [
    "## for loop usage"
   ]
  },
  {
   "cell_type": "markdown",
   "id": "23946a3a-258a-4ad1-adc4-9fddc0b51beb",
   "metadata": {},
   "source": [
    "## Assignment-8  write a program to generate and dislpay multiplication table of given number"
   ]
  },
  {
   "cell_type": "code",
   "execution_count": null,
   "id": "49a0ebb8-cd54-4965-970f-3962ad3c146a",
   "metadata": {},
   "outputs": [],
   "source": [
    "num=int(input(\"Enter the number\"))\n",
    "i=1\n",
    "for i in range(1,11):\n",
    "     print(f\"{num} * {i} = {num*i}\")\n",
    "     i=i+1\n",
    "    "
   ]
  },
  {
   "cell_type": "markdown",
   "id": "9afc50e2-f1cd-487e-a2d6-ee821cd9e516",
   "metadata": {},
   "source": [
    "## Assignment-9 Calculate the factorial of a given number."
   ]
  },
  {
   "cell_type": "code",
   "execution_count": null,
   "id": "c19dc4d0-7e9f-4261-a9ab-1bd9027aa87e",
   "metadata": {},
   "outputs": [],
   "source": [
    "num=int(input(\"Enter the number to find the factorial\"))\n",
    "num1=num\n",
    "fact=1\n",
    "for num in range (num,0,-1):\n",
    "    fact=fact*num\n",
    "print(f\"factorial of {num1} is ={fact}\")"
   ]
  },
  {
   "cell_type": "code",
   "execution_count": null,
   "id": "f13dbf43-93ec-4162-ab46-65dfc7c250b3",
   "metadata": {},
   "outputs": [],
   "source": [
    "str=\"ABCDEFGHIJKLMNOPQRSTUVWXYZ\"\n",
    "for i in str:\n",
    "    print(i, end=\"  \")"
   ]
  },
  {
   "cell_type": "markdown",
   "id": "d95c9621-f6bc-4f22-b71c-59669b8ba3d3",
   "metadata": {},
   "source": [
    "## Calculate the sum of digits given by user. Using String and Typecasting\n"
   ]
  },
  {
   "cell_type": "code",
   "execution_count": null,
   "id": "515d70b4-88f4-4590-8262-6eb186e9477d",
   "metadata": {},
   "outputs": [],
   "source": [
    "num=input(\"Enter the number to sum of digits\")\n",
    "sum=0\n",
    "for i in num:\n",
    "    sum=sum+int(i)\n",
    "print(sum)"
   ]
  },
  {
   "cell_type": "code",
   "execution_count": null,
   "id": "9ffbb85d-1d37-4d31-ae06-b760e2826952",
   "metadata": {},
   "outputs": [],
   "source": []
  },
  {
   "cell_type": "code",
   "execution_count": null,
   "id": "eca4a63c-8230-4d4c-afb4-4c467df98938",
   "metadata": {},
   "outputs": [],
   "source": []
  },
  {
   "cell_type": "markdown",
   "id": "85a5b498-dd7a-4a17-9b9f-93a8e33586dc",
   "metadata": {
    "jp-MarkdownHeadingCollapsed": true
   },
   "source": [
    "# Lab Practice on 26sep"
   ]
  },
  {
   "cell_type": "markdown",
   "id": "dff84b3b-fb2d-426c-815d-3d7828ed6c90",
   "metadata": {},
   "source": [
    "## Assig-1 Print even numbers upto 50  using while loop"
   ]
  },
  {
   "cell_type": "code",
   "execution_count": null,
   "id": "01af5db5-259b-4948-8113-c7b30211480f",
   "metadata": {},
   "outputs": [],
   "source": [
    "\n",
    "num = 2\n",
    "while num <= 50:\n",
    "    print(num, end=\" \")\n",
    "    num = num+2  "
   ]
  },
  {
   "cell_type": "markdown",
   "id": "cb6d77c3-51dc-4cf4-a0cc-79b2a5e04754",
   "metadata": {},
   "source": [
    "##  Assig-2 Print Odd numbers upto 50 using while loop"
   ]
  },
  {
   "cell_type": "code",
   "execution_count": null,
   "id": "588229fa-236b-4e5e-b4c9-4a01069e4f2e",
   "metadata": {},
   "outputs": [],
   "source": [
    "\n",
    "num = 1\n",
    "while num <= 50:\n",
    "    print(num, end=\" \")\n",
    "    num = num+2  "
   ]
  },
  {
   "cell_type": "markdown",
   "id": "affadc21-729d-42ac-80d0-080b8d859c70",
   "metadata": {},
   "source": [
    "## Assig-3 Reverse a string (Hello)"
   ]
  },
  {
   "cell_type": "code",
   "execution_count": null,
   "id": "d21ec399-e685-42c3-94f8-7159b1ebfb18",
   "metadata": {},
   "outputs": [],
   "source": [
    "original_string = \"HELLO\"\n",
    "reversed_string = original_string[::-1]\n",
    "print(reversed_string)\n"
   ]
  },
  {
   "cell_type": "markdown",
   "id": "d3bf132c-623a-4d9f-a554-0d20c84fa3e5",
   "metadata": {},
   "source": [
    "## Chek user given  number is  prime numbe or not"
   ]
  },
  {
   "cell_type": "code",
   "execution_count": null,
   "id": "5e42e9cc-cc1b-4ff3-abad-90680c43b11f",
   "metadata": {},
   "outputs": [],
   "source": [
    "num = int(input(\"enter number\"))\n",
    "\n",
    "\n",
    "if num == 0 or num == 1:\n",
    "    print(num, \"is not a prime number\")\n",
    "elif num > 1:\n",
    "  \n",
    "   for i in range(2,num):\n",
    "       if (num % i) == 0:\n",
    "           print(num,\"is not a prime number\")\n",
    "           break\n",
    "   else:\n",
    "       print(num,\"is a prime number\")\n",
    "else:\n",
    "   print(num,\"is not a prime number\")"
   ]
  },
  {
   "cell_type": "markdown",
   "id": "86700b1e-212c-4ede-aa47-3f22177657ee",
   "metadata": {},
   "source": [
    "## Find  prime number Series(for loop)"
   ]
  },
  {
   "cell_type": "code",
   "execution_count": null,
   "id": "1185abce-d63a-406c-8093-3579b1a6a681",
   "metadata": {},
   "outputs": [],
   "source": [
    "user_input = int(input(\"Enter a number: \"))\n",
    "\n",
    "print(f\"Prime numbers up to {user_input}:\")\n",
    "for num in range(2, user_input + 1):\n",
    "    is_prime = True  # Assume the number is prime\n",
    "    for i in range(2, num):\n",
    "        if num % i == 0:  # If divisible, it's not prime\n",
    "            is_prime = False\n",
    "            break  # No need to check further\n",
    "    if is_prime:\n",
    "        print(num,end=\" \")  # Print the prime number\n",
    " "
   ]
  },
  {
   "cell_type": "markdown",
   "id": "7793cb9b-9624-4401-8fbf-e6fc12242117",
   "metadata": {},
   "source": [
    "## Nested Loop Intro"
   ]
  },
  {
   "cell_type": "code",
   "execution_count": null,
   "id": "48023f2a-497f-4700-99e2-65329e5c295f",
   "metadata": {},
   "outputs": [],
   "source": [
    "for i in range(0,5):\n",
    "    for j in range(0,i):\n",
    "        \n",
    "        print(i*2,end)\n"
   ]
  },
  {
   "cell_type": "code",
   "execution_count": null,
   "id": "e16d3111-352a-4c3e-b687-05de3a6fb191",
   "metadata": {},
   "outputs": [],
   "source": [
    "# Loop through numbers 1 to 5\n",
    "for i in range(1, 6):\n",
    "    print(f\"Multiplication table for {i}:\")\n",
    "    # Inner loop for the multiplication\n",
    "    for j in range(1, 11): \n",
    "        print(f\"{i} x {j} = {i * j}\")\n",
    "   "
   ]
  },
  {
   "cell_type": "markdown",
   "id": "a87d365c-3232-4bea-a5ee-5da5590a6cff",
   "metadata": {},
   "source": [
    "## Assig- print right angle triangle uisng for loop"
   ]
  },
  {
   "cell_type": "code",
   "execution_count": null,
   "id": "0bea0970-1dec-4179-91d7-85ea7877aded",
   "metadata": {},
   "outputs": [],
   "source": [
    "# Loop through numbers 1 to 5\n",
    "for i in range(1, 6):  # Start from 1 to 5\n",
    "    for j in range(i):  # Print 'i' numbers in each row\n",
    "        print(i, end=\" \")  # Print the number followed by a space\n",
    "    print()  # Move to the next line after each row\n"
   ]
  },
  {
   "cell_type": "markdown",
   "id": "68e9b6cd-d3d2-446b-b582-376a72f1b570",
   "metadata": {},
   "source": [
    "## Assig- print right angle triangle of stars uisng for loop\n"
   ]
  },
  {
   "cell_type": "code",
   "execution_count": null,
   "id": "c43378b0-6a93-426b-9b40-2c1d88b8ea3a",
   "metadata": {},
   "outputs": [],
   "source": [
    "\n",
    "for i in range(1, 6):  \n",
    "    for j in range(i):  \n",
    "        print(\"*\", end=\" \")  # Print '*' followed by a space\n",
    "    print()  # Move to the next line after each row"
   ]
  },
  {
   "cell_type": "markdown",
   "id": "139f73bc-a24b-4eaf-9272-288b19c5fb84",
   "metadata": {},
   "source": [
    "## Assig- print right angle triangle of stars uisng while loop\n"
   ]
  },
  {
   "cell_type": "code",
   "execution_count": null,
   "id": "ea0df177-825c-4402-9d0b-4492021cba24",
   "metadata": {},
   "outputs": [],
   "source": [
    "num = 5  # Number of rows\n",
    "i = 1  # Initialize i\n",
    "\n",
    "while i <= num:\n",
    "    for j in range(i):  # Loop to print '*' i times\n",
    "        print(\"*\", end=\" \")  # Print '*' followed by a space\n",
    "    print()  # Move to the next line\n",
    "    i += 1  # Increment i\n"
   ]
  },
  {
   "cell_type": "markdown",
   "id": "852fbf8b-3b1e-4155-addd-b256dd8078c1",
   "metadata": {
    "jp-MarkdownHeadingCollapsed": true
   },
   "source": [
    "# Lab Practice on 27sep"
   ]
  },
  {
   "cell_type": "markdown",
   "id": "e1980a91-dc7f-4633-ba1c-061029bdd084",
   "metadata": {},
   "source": [
    "## ASSIG- HOMEWORK  write a program to check for palindrom string"
   ]
  },
  {
   "cell_type": "markdown",
   "id": "b0f146ee-68c1-40c8-a91b-7f1257eb2301",
   "metadata": {
    "jp-MarkdownHeadingCollapsed": true
   },
   "source": [
    "# Lab Practice on 28sep"
   ]
  },
  {
   "cell_type": "code",
   "execution_count": null,
   "id": "89ee519b-c1ef-4725-a020-f9d62f60c408",
   "metadata": {},
   "outputs": [],
   "source": [
    "#loop with else\n",
    "\n",
    "num=2\n",
    "\n",
    "while num <= 10:\n",
    "    print(num)\n",
    "    num=num+1\n",
    "else:\n",
    "    print(\"Invalid string\")"
   ]
  },
  {
   "cell_type": "markdown",
   "id": "b2bb5f47-ffcb-43a1-a226-e78ac172093b",
   "metadata": {},
   "source": [
    "## LIST INTRODUCTION AND ITS OPERATIONS\n",
    "\n",
    "#### Mutable (can be change)\n",
    "#### Can hold elements of different data types\n",
    "#### Allows duplicate data\n",
    "#### Maintains order of insertion"
   ]
  },
  {
   "cell_type": "markdown",
   "id": "70b931fe-323d-4c3a-b53e-25b6b6de98f3",
   "metadata": {},
   "source": [
    "### 1. creating a list"
   ]
  },
  {
   "cell_type": "code",
   "execution_count": null,
   "id": "b031fdc8-aedf-4f05-af0e-f1c81f49756f",
   "metadata": {},
   "outputs": [],
   "source": [
    "\n",
    "my_list = [100,2,\"Hello\",True]\n",
    "print(my_list)\n"
   ]
  },
  {
   "cell_type": "markdown",
   "id": "a31b2edf-814a-4066-a874-6b973d283f99",
   "metadata": {},
   "source": [
    "### 2. print first element"
   ]
  },
  {
   "cell_type": "code",
   "execution_count": null,
   "id": "e9266db1-84de-4c1f-8621-d83e0f8316a4",
   "metadata": {},
   "outputs": [],
   "source": [
    "\n",
    "print(my_list[0])"
   ]
  },
  {
   "cell_type": "markdown",
   "id": "c4f97d57-604f-4f6c-9960-f36b1006167b",
   "metadata": {},
   "source": [
    "### 3. Insert at Specific Position"
   ]
  },
  {
   "cell_type": "code",
   "execution_count": null,
   "id": "e28070be-028f-43bc-b722-0e2d72e8abb2",
   "metadata": {},
   "outputs": [],
   "source": [
    "\n",
    "my_list.insert(3,600)\n",
    "print(my_list)"
   ]
  },
  {
   "cell_type": "markdown",
   "id": "4135bf1e-8794-4d7f-83cb-aaa0bb79639a",
   "metadata": {},
   "source": [
    "### 4. Remove last element"
   ]
  },
  {
   "cell_type": "code",
   "execution_count": null,
   "id": "7a37dc1e-78d5-4599-8a28-8fa3d0a0c4ff",
   "metadata": {},
   "outputs": [],
   "source": [
    "\n",
    "renoved_element=my_list.pop()\n",
    "print(renoved_element)\n"
   ]
  },
  {
   "cell_type": "markdown",
   "id": "ef41b592-8417-449d-b9d0-aaa35f0c15e4",
   "metadata": {},
   "source": [
    "### 5. Add element in the list (AT LAST )"
   ]
  },
  {
   "cell_type": "code",
   "execution_count": null,
   "id": "3c80e24a-79ba-47e9-8fa2-fc21e35ea0fb",
   "metadata": {},
   "outputs": [],
   "source": [
    "\n",
    "my_list.append(\"ram\")\n",
    "print(my_list)"
   ]
  },
  {
   "cell_type": "markdown",
   "id": "4810dab8-ab42-42b9-850f-326b15750431",
   "metadata": {},
   "source": [
    "### 6. Add element in the list (SPECIFIC POSITION)\n"
   ]
  },
  {
   "cell_type": "code",
   "execution_count": null,
   "id": "d4aec66f-9dc1-44c1-9c09-df32abcd9ac5",
   "metadata": {},
   "outputs": [],
   "source": [
    "\n",
    "my_list[2]=\"world\"\n",
    "print(my_list)"
   ]
  },
  {
   "cell_type": "markdown",
   "id": "79933d85-ba6e-4894-8397-975d27033a85",
   "metadata": {},
   "source": [
    "### 7. Remove element from list"
   ]
  },
  {
   "cell_type": "code",
   "execution_count": null,
   "id": "28f17db2-800a-4449-9c7b-3dbb3d226824",
   "metadata": {},
   "outputs": [],
   "source": [
    "\n",
    "del my_list[0]\n",
    "print(my_list)"
   ]
  },
  {
   "cell_type": "markdown",
   "id": "ceba4bee-a796-4266-9e15-e9ee5e39dda1",
   "metadata": {},
   "source": [
    "### 8. Remove first occurance of 2"
   ]
  },
  {
   "cell_type": "code",
   "execution_count": null,
   "id": "e6e89cb8-c639-4321-afa0-182cbd0e6192",
   "metadata": {},
   "outputs": [],
   "source": [
    "\n",
    "my_list.remove(2)\n",
    "print(my_list)"
   ]
  },
  {
   "cell_type": "markdown",
   "id": "bd4936fd-eec3-4379-8ccd-8e13ad75110f",
   "metadata": {},
   "source": [
    "### 9. Find index of element "
   ]
  },
  {
   "cell_type": "code",
   "execution_count": null,
   "id": "b04c8a3b-a99a-4ea9-b0c0-45b0519438fd",
   "metadata": {},
   "outputs": [],
   "source": [
    "\n",
    "index_of_ram=my_list.index(\"ram\")\n",
    "print(index_of_ram)\n"
   ]
  },
  {
   "cell_type": "markdown",
   "id": "19feb7f3-7be0-4c79-aa1e-599bb7d42d42",
   "metadata": {},
   "source": [
    "### 10. Count specific element in a list\n"
   ]
  },
  {
   "cell_type": "code",
   "execution_count": null,
   "id": "d3f8a342-463c-4407-a96c-09072fe640b8",
   "metadata": {},
   "outputs": [],
   "source": [
    "\n",
    "list=[1,2,3,4,6,3,2,\"suraj\" \"kumar\"]\n",
    "\n",
    "count=list.count(2)\n",
    "print(count)"
   ]
  },
  {
   "cell_type": "markdown",
   "id": "73f73a76-3ce4-4565-a437-12011a084fe1",
   "metadata": {},
   "source": [
    "### 11.Sort the list"
   ]
  },
  {
   "cell_type": "code",
   "execution_count": null,
   "id": "8a685322-e396-4e90-85df-ac5eb62b9313",
   "metadata": {},
   "outputs": [],
   "source": [
    "\n",
    "list=[1,2,3,4,6,3,2,]\n",
    "list.sort()\n",
    "print(list)"
   ]
  },
  {
   "cell_type": "markdown",
   "id": "d5a92420-bf4f-4c9f-880b-18565bc4f205",
   "metadata": {},
   "source": [
    "### 12. Reverse the list"
   ]
  },
  {
   "cell_type": "code",
   "execution_count": null,
   "id": "b6eb8b0e-5573-4a17-b9bf-bb500c9b97fa",
   "metadata": {},
   "outputs": [],
   "source": [
    "\n",
    "list=[1,2,3,4,6,3,2,]\n",
    "list.reverse()\n",
    "print(list)"
   ]
  },
  {
   "cell_type": "markdown",
   "id": "f50a1976-9071-4182-b24e-477db12cc6a3",
   "metadata": {},
   "source": [
    "### 13. Copy the List\n"
   ]
  },
  {
   "cell_type": "code",
   "execution_count": null,
   "id": "cb9c4cfa-fdd5-4fda-a7fd-16247bd8e83a",
   "metadata": {},
   "outputs": [],
   "source": [
    "\n",
    "copy=list.copy()\n",
    "print(copy)\n",
    "\n",
    "\n",
    "# ##OR\n",
    "# copy=list[:]\n",
    "# print(copy)\n"
   ]
  },
  {
   "cell_type": "markdown",
   "id": "7c2bc84b-1e3b-4c91-b7a8-6bd54f849c53",
   "metadata": {},
   "source": [
    "### 14. Joining the List"
   ]
  },
  {
   "cell_type": "code",
   "execution_count": null,
   "id": "03183831-38cc-490f-af4a-7b8579017838",
   "metadata": {},
   "outputs": [],
   "source": [
    "\n",
    "a1=[1,2,3,4,5]\n",
    "a2=[6,7,8,9,10]\n",
    "\n",
    "combined = a1 + a2\n",
    "print(\" Combined elements are:\" ,combined)\n"
   ]
  },
  {
   "cell_type": "markdown",
   "id": "f5544b6e-5591-47b0-aeed-6373432c0f4d",
   "metadata": {},
   "source": [
    "### 15. Joining List"
   ]
  },
  {
   "cell_type": "code",
   "execution_count": null,
   "id": "4438155d-06f3-402d-9b66-45aaf585e909",
   "metadata": {},
   "outputs": [],
   "source": [
    "\n",
    "a2=[6,7,8,9,10]\n",
    "print(\"Before clear function\",a2)\n",
    "a2 .clear()\n",
    "print(\"After clear function\",a2)"
   ]
  },
  {
   "cell_type": "markdown",
   "id": "6e8f206d-2687-4801-aa6c-405694abdc75",
   "metadata": {},
   "source": [
    "## Assignment-1  Generate all prime number upto user input and store in a list"
   ]
  },
  {
   "cell_type": "code",
   "execution_count": null,
   "id": "8511447b-0195-4ba1-8e98-d7f68d12eba7",
   "metadata": {},
   "outputs": [],
   "source": [
    "user_input = int(input(\"Enter a number: \"))\n",
    "\n",
    "\n",
    "prime_numbers = []\n",
    "\n",
    "print(f\"Prime numbers up to {user_input}:\")\n",
    "\n",
    "for num in range(2, user_input + 1):\n",
    "    is_prime = True \n",
    "    for i in range(2, int(num**0.5) + 1): \n",
    "        if num % i == 0:  \n",
    "            is_prime = False\n",
    "            break  \n",
    "    if is_prime:\n",
    "        prime_numbers.append(num)  \n",
    "\n",
    "print(prime_numbers)\n",
    "\n"
   ]
  },
  {
   "cell_type": "markdown",
   "id": "83d079e4-cc03-4d82-a059-5f06888d84ee",
   "metadata": {},
   "source": [
    "## Assignment-2 Write a program to implement a basic To-Do list where a user can add ,remove,and view the task"
   ]
  },
  {
   "cell_type": "code",
   "execution_count": null,
   "id": "21b46367-9585-4516-93c3-f2495c18c4e0",
   "metadata": {},
   "outputs": [],
   "source": [
    "\n",
    "tasks = []\n",
    "\n",
    "while True:\n",
    "    print(\"\\nTo-Do List Menu\")\n",
    "    print(\"1. Add a task\")\n",
    "    print(\"2. Remove a task\")\n",
    "    print(\"3. View tasks\")\n",
    "    print(\"4. Exit\")\n",
    "    \n",
    "    choice = input(\"Choose an option (1-4): \")\n",
    "\n",
    "    if choice == '1':\n",
    "        task = input(\"Enter the task: \")\n",
    "        tasks.append(task)\n",
    "        print(f'Task \"{task}\" added.')\n",
    "\n",
    "    elif choice == '2':\n",
    "        if len(tasks) > 0:\n",
    "            print(\"\\nTasks:\")\n",
    "            for index in range(len(tasks)):\n",
    "                print(f\"{index + 1}. {tasks[index]}\")\n",
    "            index = int(input(\"Enter the task number to remove: \")) - 1\n",
    "            if 0 <= index < len(tasks):\n",
    "                removed_task = tasks.pop(index)\n",
    "                print(f'Task \"{removed_task}\" removed.')\n",
    "            else:\n",
    "                print(\"Invalid task number.\")\n",
    "        else:\n",
    "            print(\"No tasks to remove.\")\n",
    "\n",
    "    elif choice == '3':\n",
    "        if len(tasks) == 0:\n",
    "            print(\"No tasks in the list.\")\n",
    "        else:\n",
    "            print(\"\\nTasks:\")\n",
    "            for index in range(len(tasks)):\n",
    "                print(f\"{index + 1}. {tasks[index]}\")\n",
    "\n",
    "    elif choice == '4':\n",
    "        print(\"Exiting the program. Goodbye!\")\n",
    "        break\n",
    "\n",
    "    else:\n",
    "        print(\"Invalid choice. Please try again.\")\n"
   ]
  },
  {
   "cell_type": "markdown",
   "id": "15e23ffb-5010-40cb-a41f-1ede52017ee3",
   "metadata": {},
   "source": [
    "## Assignment-3 Create a program that checks if two strings are anagrams(two strings that contains the same charcters in a different order E.g \"expect\" \"except\")"
   ]
  },
  {
   "cell_type": "code",
   "execution_count": null,
   "id": "4351e774-313e-4fec-abd3-e081a92ea628",
   "metadata": {},
   "outputs": [],
   "source": [
    "# Input two strings from the user\n",
    "string1 = input(\"Enter the first string: \")\n",
    "string2 = input(\"Enter the second string: \")\n",
    "\n",
    "# Remove spaces and convert to lowercase\n",
    "string1 = string1.replace(\" \", \"\").lower()\n",
    "string2 = string2.replace(\" \", \"\").lower()\n",
    "\n",
    "# Sort the characters and compare\n",
    "if sorted(string1) == sorted(string2):\n",
    "    print(f'\"{string1}\" and \"{string2}\" are anagrams.')\n",
    "else:\n",
    "    print(f'\"{string1}\" and \"{string2}\" are not anagrams.')\n"
   ]
  },
  {
   "cell_type": "markdown",
   "id": "029c07c0-80b6-4d59-8a03-0e1cb56ab075",
   "metadata": {},
   "source": [
    "## Slicing (It Exlude the last element)"
   ]
  },
  {
   "cell_type": "code",
   "execution_count": null,
   "id": "0b98339d-30a0-4cdb-819f-a1c86689cbea",
   "metadata": {},
   "outputs": [],
   "source": [
    "list = [ \"Apple\" , \"Banana\" , \"Mango\" , \"Orange\" , \"Gauva\" , \"Pineapple\" ]\n",
    "sliced=list[2:6]\n",
    "print(sliced)"
   ]
  },
  {
   "cell_type": "code",
   "execution_count": null,
   "id": "294afe45-b42f-4eb9-82ae-c7911e38cd66",
   "metadata": {},
   "outputs": [],
   "source": []
  },
  {
   "cell_type": "markdown",
   "id": "209ac19f-baba-41db-92c1-6b55e1eb1baf",
   "metadata": {
    "jp-MarkdownHeadingCollapsed": true
   },
   "source": [
    "# Lab Practice on 30sep"
   ]
  },
  {
   "cell_type": "markdown",
   "id": "76479379-384b-4064-9d44-0a81ae39bb76",
   "metadata": {},
   "source": [
    "## Introduction of Tuples\n",
    "### 1. Immutable\n",
    "### 2. Ordered\n",
    "### 3. Heterogenous\n",
    "### 4 Memory Efficient\n",
    "### 4. Faster than List"
   ]
  },
  {
   "cell_type": "markdown",
   "id": "5d1abf28-7e3b-4edb-be11-9df516437f06",
   "metadata": {},
   "source": [
    "## Tuple Operations"
   ]
  },
  {
   "cell_type": "markdown",
   "id": "e6d18d82-24fe-4254-ac07-db9550f2a4be",
   "metadata": {},
   "source": [
    "## 1. Create a Tuple"
   ]
  },
  {
   "cell_type": "code",
   "execution_count": null,
   "id": "2000161a-fcf9-4b07-9a33-92896b5b9b4d",
   "metadata": {},
   "outputs": [],
   "source": [
    "tuple=(1,2,4,7,9,\"hello\")\n",
    "print(tuple)\n",
    "print(tuple[5])\n",
    "print(tuple[-1])"
   ]
  },
  {
   "cell_type": "markdown",
   "id": "66f025c1-0ed9-43ec-a838-43d838b209c0",
   "metadata": {},
   "source": [
    "## 2. Tuple Unpacking"
   ]
  },
  {
   "cell_type": "code",
   "execution_count": null,
   "id": "c13f2483-7938-45e0-a2fe-0d92c0b729a9",
   "metadata": {},
   "outputs": [],
   "source": [
    "my_tuple=(2,3,5)   #Assigning each element to a variable\n",
    "a,b,c=my_tuple\n",
    "print(a)\n",
    "print(b)\n",
    "print(c)"
   ]
  },
  {
   "cell_type": "markdown",
   "id": "5e3207cd-f084-4981-a3bb-0ec7efc82e15",
   "metadata": {},
   "source": [
    "## 3. Tuple concatenation"
   ]
  },
  {
   "cell_type": "code",
   "execution_count": null,
   "id": "a13478e2-3e13-4446-9c93-0aa4dd12b8d6",
   "metadata": {},
   "outputs": [],
   "source": [
    "tuple_1=(1,2,3,4,5)\n",
    "tuple_2=(6,7,8,9)\n",
    "tuple_3=tuple_1+tuple_2\n",
    "print(tuple_3)"
   ]
  },
  {
   "cell_type": "markdown",
   "id": "0c789ae9-53e4-4527-a823-a6729e328136",
   "metadata": {},
   "source": [
    "## 4. Checking Membership"
   ]
  },
  {
   "cell_type": "code",
   "execution_count": null,
   "id": "d2ebe158-d14a-487c-8305-40955942243b",
   "metadata": {},
   "outputs": [],
   "source": [
    "tuple=(1,2,3,4,5)\n",
    "present=5 in tuple\n",
    "print(present)"
   ]
  },
  {
   "cell_type": "markdown",
   "id": "a096130d-2596-476b-8aed-823f03d3c8f0",
   "metadata": {},
   "source": [
    "## 5. counting Occurence of an element"
   ]
  },
  {
   "cell_type": "code",
   "execution_count": null,
   "id": "d324c9c4-db81-4ff5-9a98-9a290cc589e1",
   "metadata": {},
   "outputs": [],
   "source": [
    "tuple=(1,2,3,4,5,1)\n",
    "count=tuple.count(1)\n",
    "print(count)"
   ]
  },
  {
   "cell_type": "markdown",
   "id": "d726f353-762c-465b-ac86-9c956dd23dd3",
   "metadata": {},
   "source": [
    "## 6. Finding index of a Tuple"
   ]
  },
  {
   "cell_type": "code",
   "execution_count": null,
   "id": "763794ca-3f79-45b4-9d37-90f49b3b1543",
   "metadata": {},
   "outputs": [],
   "source": [
    "tuple=(1,2,3,4,5,1)\n",
    "count=tuple.index(5)\n",
    "print(count)"
   ]
  },
  {
   "cell_type": "markdown",
   "id": "4b6147fc-fabd-45b6-a070-851650aee6df",
   "metadata": {},
   "source": [
    "## 7. Repitition\n"
   ]
  },
  {
   "cell_type": "code",
   "execution_count": null,
   "id": "057a8f66-a8b6-4b8b-beb5-7290a3df79af",
   "metadata": {},
   "outputs": [],
   "source": [
    "tuple=(1,2,3,4,5,1)  #Print tuple element 3 times\n",
    "count=tuple*3\n",
    "print(count)"
   ]
  },
  {
   "cell_type": "markdown",
   "id": "892ec32e-56ba-48ab-add1-3d5f9e4856ae",
   "metadata": {},
   "source": [
    "## 8. Sorting a Tuple"
   ]
  },
  {
   "cell_type": "code",
   "execution_count": null,
   "id": "849634ad-cb43-4997-b8ce-d7882ba99495",
   "metadata": {},
   "outputs": [],
   "source": [
    "tuple=(1,2,3,4,5,1)\n",
    "count=sorted(tuple)\n",
    "print(count)"
   ]
  },
  {
   "cell_type": "markdown",
   "id": "00e76b58-a8ed-46fd-97ee-40aee59457af",
   "metadata": {},
   "source": [
    "## 9. Converting list to a Tulple "
   ]
  },
  {
   "cell_type": "code",
   "execution_count": null,
   "id": "e8ccf209-8714-4d91-9507-fbe5d605b700",
   "metadata": {},
   "outputs": [],
   "source": [
    "# Example list\n",
    "my_list = [1, 2, 3, 4]\n",
    "\n",
    "# Convert to tuple\n",
    "my_tuple = tuple(my_list)\n",
    "\n",
    "print(my_tuple)  # Output: (1, 2, 3, 4)\n"
   ]
  },
  {
   "cell_type": "markdown",
   "id": "9a906f15-9545-4609-a102-fc81c8807b37",
   "metadata": {},
   "source": [
    "## 10. Find Length of a Tuple"
   ]
  },
  {
   "cell_type": "code",
   "execution_count": null,
   "id": "17bb521f-1a93-40bd-8ab7-80323d376ed7",
   "metadata": {},
   "outputs": [],
   "source": [
    "tuple=(1,2,3,4,5,1)\n",
    "print(len(tuple))"
   ]
  },
  {
   "cell_type": "markdown",
   "id": "41055261-d0b5-412b-a9b3-99de044e0a7c",
   "metadata": {},
   "source": [
    "## 12.  Converting Tuple to a list "
   ]
  },
  {
   "cell_type": "code",
   "execution_count": 23,
   "id": "5faa6e2f-4a65-4654-9b0e-2543e852213f",
   "metadata": {},
   "outputs": [
    {
     "name": "stdout",
     "output_type": "stream",
     "text": [
      "[1, 2, 3, 4]\n"
     ]
    }
   ],
   "source": [
    "# Example tuple\n",
    "my_tuple = (1, 2, 3, 4)\n",
    "\n",
    "# Convert to list\n",
    "my_list = list(my_tuple)\n",
    "\n",
    "print(my_list)  # Output: [1, 2, 3, 4]\n"
   ]
  },
  {
   "cell_type": "markdown",
   "id": "2a75ca4f-fddf-43d9-acb4-55c306ff38e0",
   "metadata": {},
   "source": [
    "## Assignment-1 Take multiple input from user  separated by a commma then convert it into Tuple"
   ]
  },
  {
   "cell_type": "code",
   "execution_count": null,
   "id": "6181aa8e-783a-4d80-8ba0-a2c70d6c23f2",
   "metadata": {},
   "outputs": [],
   "source": [
    "# Get input from the user\n",
    "user_input = input(\"Enter values separated by commas: \")\n",
    "\n",
    "# Split the input string into a list\n",
    "values_list = user_input.split(',')    # split fxn output is always a list\n",
    "\n",
    "# Convert the list to a tuple\n",
    "values_tuple = tuple(values_list)\n",
    "\n",
    "print(values_tuple)\n"
   ]
  },
  {
   "cell_type": "markdown",
   "id": "1a13ef14-91bc-4926-96b2-3aaf7b1cc379",
   "metadata": {},
   "source": [
    "#### Q1. Find last element\n"
   ]
  },
  {
   "cell_type": "code",
   "execution_count": null,
   "id": "7deb0c26-1b69-433a-be3d-8dcd67e73197",
   "metadata": {},
   "outputs": [],
   "source": [
    "last_element=values_tuple[-1]\n",
    "print(last_element)"
   ]
  },
  {
   "cell_type": "markdown",
   "id": "f5906383-4e24-45f1-bef5-0a76da56acdd",
   "metadata": {},
   "source": [
    "#### Q2. Slice the tuple from (last to second last)"
   ]
  },
  {
   "cell_type": "code",
   "execution_count": null,
   "id": "d15cbbe5-d30d-44f5-a304-475e1060cca2",
   "metadata": {},
   "outputs": [],
   "source": [
    "sliced=values_tuple[1:-1]\n",
    "print(sliced)"
   ]
  },
  {
   "cell_type": "markdown",
   "id": "a2eef90f-95b8-436d-9d8b-340f66614275",
   "metadata": {},
   "source": [
    "#### Q3. Print every second element of Tuple"
   ]
  },
  {
   "cell_type": "code",
   "execution_count": null,
   "id": "96589be3-08ac-4942-bcf9-82f89a8ba705",
   "metadata": {},
   "outputs": [],
   "source": [
    "sliced=values_tuple[::2]\n",
    "print(sliced)"
   ]
  },
  {
   "cell_type": "markdown",
   "id": "241f4672-040f-4255-b33d-521adffaf489",
   "metadata": {},
   "source": [
    "#### Q4. print the Tuple in Reverse Order "
   ]
  },
  {
   "cell_type": "code",
   "execution_count": null,
   "id": "b9e09b0e-4489-42b6-b71d-398ab120de5c",
   "metadata": {},
   "outputs": [],
   "source": [
    "sliced=values_tuple[::-1]\n",
    "print(sliced)"
   ]
  },
  {
   "cell_type": "markdown",
   "id": "7cd234c8-021b-4880-94e9-ce63a487da9a",
   "metadata": {},
   "source": [
    "## Assignment-2 Develop a Program that demonstrate tuple packing and unpackung. \n",
    "#### 1.Take age and name from user and pack the information into a Tuple\n",
    "#### 2.Then unpack the tuple values to the variable\n",
    "#### 3.Then display packed and unpacke values"
   ]
  },
  {
   "cell_type": "code",
   "execution_count": null,
   "id": "e5e62574-d262-4e1a-8567-3db1292af0da",
   "metadata": {},
   "outputs": [],
   "source": [
    "a = input(\"Enter your Name: \")\n",
    "b = int(input(\"Enter your Age: \"))\n",
    "\n",
    "# Create a tuple with the inputs\n",
    "my_tuple = (a, b)\n",
    "\n",
    "# Print the tuple\n",
    "print(\"Tuple is: \",my_tuple)\n",
    "\n",
    "# Unpack the tuple into variables\n",
    "name, age = my_tuple\n",
    "\n",
    "# Print the first element of the tuple\n",
    "print(\"Variable Values are\")\n",
    "print(\"Name:\", name)\n",
    "print(\"Age:\", age)\n"
   ]
  },
  {
   "cell_type": "code",
   "execution_count": null,
   "id": "6915f07f-b3c0-443c-85c3-bf17357dd925",
   "metadata": {},
   "outputs": [],
   "source": []
  },
  {
   "cell_type": "markdown",
   "id": "ef9678dd-571f-4edb-bb0a-2f9d4f996301",
   "metadata": {},
   "source": [
    "## Assignment-2 Sum the all Tuple elements"
   ]
  },
  {
   "cell_type": "code",
   "execution_count": null,
   "id": "99a21eff-54e4-4766-814f-ddeb45a789dc",
   "metadata": {},
   "outputs": [],
   "source": [
    "tuple=(1, 2, 3, 4, 5)\n",
    "sum=0\n",
    "for i in tuple:\n",
    "    sum=sum+i\n",
    "print(sum)\n"
   ]
  },
  {
   "cell_type": "markdown",
   "id": "e3d1a574-1741-46a0-bfe8-651d09ef25b3",
   "metadata": {},
   "source": [
    "## Asignment-3 Tuple sorting and filtering\n",
    "\n"
   ]
  },
  {
   "cell_type": "markdown",
   "id": "a38b4a99-79b7-49fc-aab4-63d778e684f8",
   "metadata": {},
   "source": [
    "### Q1 converting by default tuple string input into integer"
   ]
  },
  {
   "cell_type": "code",
   "execution_count": null,
   "id": "7d6e8df9-336f-4106-97aa-3c1cb433645b",
   "metadata": {},
   "outputs": [],
   "source": [
    "tuple_string=input(\"enter tuple integer valu separated by a comma\")\n",
    "converted_to_int=tuple(map(int,tuple_string.split(\",\")))\n",
    "print(converted_to_int)"
   ]
  },
  {
   "cell_type": "markdown",
   "id": "d4c54e82-8fe4-4ecc-8b2d-0cf932449627",
   "metadata": {},
   "source": [
    "## Functions in python"
   ]
  },
  {
   "cell_type": "markdown",
   "id": "45623bac-97a0-4dbe-a149-a628774d430c",
   "metadata": {},
   "source": [
    "### Q1 Make Funtion to add user  input values"
   ]
  },
  {
   "cell_type": "code",
   "execution_count": null,
   "id": "056facfd-3a65-4439-9b30-4b06f0cd2b8e",
   "metadata": {},
   "outputs": [],
   "source": [
    "def addNumber(a,b):\n",
    "    result=a+b\n",
    "    return result\n",
    "\n",
    "num1=int(input(\"enter first no.\"))\n",
    "num2=int(input(\"enter 2nd no.\"))  \n",
    "res=addNumber(num1,num2)\n",
    "print(res)"
   ]
  },
  {
   "cell_type": "code",
   "execution_count": null,
   "id": "614bc949-be8d-43b5-b6bf-c80e0a10a7c4",
   "metadata": {},
   "outputs": [],
   "source": []
  },
  {
   "cell_type": "markdown",
   "id": "67907582-22be-400c-b35a-36b15e8d62dd",
   "metadata": {},
   "source": [
    "### Q2. Write a function find_longest_word() that takes alist of words and returns the longest one of them."
   ]
  },
  {
   "cell_type": "code",
   "execution_count": null,
   "id": "69b52686-f6a6-4087-8d88-8b8be7511cae",
   "metadata": {},
   "outputs": [],
   "source": [
    "def find_longest_word(words):\n",
    "    # Initialize an empty string to hold the longest word\n",
    "    longest_word = \"\"\n",
    "    \n",
    "    # Iterate through each word in the list\n",
    "    for word in words:\n",
    "        # Update the longest_word if the current word is longer\n",
    "        if len(word) > len(longest_word):\n",
    "            longest_word = word\n",
    "    \n",
    "    return longest_words\n",
    "\n",
    "# Example usage:\n",
    "word_list = [\"apple\", \"banana\", \"cherry\", \"blueberry\", \"kiwi\"]\n",
    "longest = find_longest_word(word_list)\n",
    "print(\"The longest word is:\", longest)\n"
   ]
  },
  {
   "cell_type": "code",
   "execution_count": null,
   "id": "04cb466e-4831-49f2-808a-cb1c72b55501",
   "metadata": {},
   "outputs": [],
   "source": []
  },
  {
   "cell_type": "markdown",
   "id": "364289b2-a292-4f19-9f01-7fd23c145b40",
   "metadata": {
    "jp-MarkdownHeadingCollapsed": true
   },
   "source": [
    "# Lab Practice on 1 Oct"
   ]
  },
  {
   "cell_type": "markdown",
   "id": "58004b79-e390-4893-9e06-d6c05bd2b414",
   "metadata": {},
   "source": [
    "## Dictionary"
   ]
  },
  {
   "cell_type": "markdown",
   "id": "e09313e3-9af6-425d-9a2d-77927b0668e0",
   "metadata": {},
   "source": [
    "### 1. Creating dictionary"
   ]
  },
  {
   "cell_type": "code",
   "execution_count": null,
   "id": "78429807-501d-4831-bb0c-adba4b5dffe1",
   "metadata": {},
   "outputs": [],
   "source": [
    "my_dict = {\n",
    "     \"Name\": \"Ram\",\n",
    "     \"Age\": 23,\n",
    "     \"Maths\": 40,\n",
    "     \"English\": 50\n",
    " }\n",
    "print(my_dict)                          # Print the entire dictionary\n",
    "print(my_dict.get(\"English\"))             # Access specific value \n"
   ]
  },
  {
   "cell_type": "markdown",
   "id": "6505d575-54eb-4a28-b45b-9a06af3e9ba9",
   "metadata": {},
   "source": [
    "### 2. More complex dictionary"
   ]
  },
  {
   "cell_type": "code",
   "execution_count": null,
   "id": "4d650631-63b4-4144-b561-a5c62bc1ac03",
   "metadata": {},
   "outputs": [],
   "source": [
    "my_dict2 = {\n",
    "    \"Name\": \"Ram\",\n",
    "    \"Age\": \"no\",\n",
    "    \"Maths\": 30,\n",
    "    \"list\": [\"a\", \"of\"],\n",
    "    \"nested_dict\": {\"key1\": 1, \"value1\": 1}\n",
    "}\n",
    "print(my_dict2)  # Print the complex dictionary\n",
    "\n",
    "# Accessing the list\n",
    "print(my_dict2[\"list\"])  # Access directly\n",
    "print(my_dict2.get(\"list\"))  # Access safely\n",
    "\n"
   ]
  },
  {
   "cell_type": "markdown",
   "id": "525a655d-57e0-4027-970f-be6ad9374248",
   "metadata": {},
   "source": [
    "### 3. Checking for a key"
   ]
  },
  {
   "cell_type": "code",
   "execution_count": null,
   "id": "52e18459-ddd1-4007-8c8f-a4ad5057d430",
   "metadata": {},
   "outputs": [],
   "source": [
    "\n",
    "if \"Age\" in my_dict:\n",
    "    print(\"Key 'Age' is present\")\n",
    "else:\n",
    "    print(\"Key 'Age' is not present\")\n"
   ]
  },
  {
   "cell_type": "markdown",
   "id": "95f4b29f-6005-4d59-beef-488e0862868d",
   "metadata": {},
   "source": [
    "### 4. Printing Dictionary keys and values separately and together"
   ]
  },
  {
   "cell_type": "code",
   "execution_count": null,
   "id": "a6702017-ec70-497f-ade3-18478767ff8a",
   "metadata": {},
   "outputs": [],
   "source": [
    "# Printing Keys of my_dict\n",
    "print(\"Values in my_dict:\")\n",
    "for key in my_dict:\n",
    "    print(my_dict[key])\n",
    "\n",
    "# Printing all values in my_dict2\n",
    "print(\"Values in my_dict2:\")\n",
    "for value in my_dict2.values():\n",
    "    print(value)\n",
    "\n",
    "# Printing keys and values in my_dict2\n",
    "print(\"Key-value pairs in my_dict2:\")\n",
    "for key, value in my_dict2.items():\n",
    "    print(key, value)"
   ]
  },
  {
   "cell_type": "markdown",
   "id": "1df6abe1-a262-4775-ab27-2333ba76a24d",
   "metadata": {},
   "source": [
    "### 5. Clearing the Dictionaries\n",
    "\n"
   ]
  },
  {
   "cell_type": "code",
   "execution_count": null,
   "id": "0091d517-a0fc-4be4-b638-f715070c4bf8",
   "metadata": {},
   "outputs": [],
   "source": [
    "dicta={\"a\":1,\"b\":2}\n",
    "dicta.clear()\n",
    "print(dicta)\n"
   ]
  },
  {
   "cell_type": "markdown",
   "id": "68c119fa-b542-4292-9e21-19b6cdabfffb",
   "metadata": {},
   "source": [
    "### 5. Updating Dictionary"
   ]
  },
  {
   "cell_type": "code",
   "execution_count": null,
   "id": "21ce2eb3-04c4-420e-a4f3-2fa88d1c99a2",
   "metadata": {},
   "outputs": [],
   "source": [
    "dicta={\"a\":1,\"b\":2}\n",
    "dictb={\"b\":3,\"c\":4}\n",
    "\n",
    "dicta.update(dictb)\n",
    "print(dicta)"
   ]
  },
  {
   "cell_type": "markdown",
   "id": "b3ab5a2c-40f9-444a-9675-0931b05cd946",
   "metadata": {},
   "source": [
    "## Assignment-1   Create a dictionary where keys are integers from 1 to 5 and values are their cubes"
   ]
  },
  {
   "cell_type": "code",
   "execution_count": 1,
   "id": "117ace34-1c51-47ca-a88b-70ca9f9f166c",
   "metadata": {},
   "outputs": [
    {
     "name": "stdout",
     "output_type": "stream",
     "text": [
      "{1: 1, 2: 8, 3: 27, 4: 64, 5: 125}\n"
     ]
    }
   ],
   "source": [
    "dict={}\n",
    "\n",
    "for i in range(1,6):\n",
    "    dict.update({i: i**3})\n",
    "    # dict[i]=i*i*i\n",
    "print(dict)"
   ]
  },
  {
   "cell_type": "markdown",
   "id": "f0adde15-59e9-401d-bba5-79c1af411cc3",
   "metadata": {},
   "source": [
    "## Assignment-2"
   ]
  },
  {
   "cell_type": "code",
   "execution_count": 3,
   "id": "0e7dbfc8-fcff-4148-8390-61460f8e2c0e",
   "metadata": {},
   "outputs": [
    {
     "name": "stdout",
     "output_type": "stream",
     "text": [
      "{'a': 97, 'b': 98, 'c': 99, 'd': 100, 'e': 101}\n"
     ]
    }
   ],
   "source": [
    "# Step 1: Initialize an empty dictionary\n",
    "ascii_dict = {}\n",
    "\n",
    "# Step 2: Define the letters\n",
    "letters = ['a', 'b', 'c', 'd', 'e']\n",
    "\n",
    "# Step 3: Loop through the letters\n",
    "for letter in letters:\n",
    "    ascii_dict[letter] = ord(letter)  # Get the ASCII value using ord()\n",
    "\n",
    "# Step 4: Print the resulting dictionary\n",
    "print(ascii_dict)\n"
   ]
  },
  {
   "cell_type": "markdown",
   "id": "1dfa02e3-5f09-406a-8f05-1dfaccb3403e",
   "metadata": {},
   "source": [
    "## Assignment-3  Generate a dictionary with following keys:\"Name\",\"RollNo\",\"Science\",\"Maths\",\"English\".Accept values for these from user.\n",
    "#Calculate \"Average\" and \"Percentage\" and add these to the dictionary.\n",
    "#print final dictionary"
   ]
  },
  {
   "cell_type": "code",
   "execution_count": null,
   "id": "e8068319-3055-477d-bd83-bc30c99bc533",
   "metadata": {},
   "outputs": [],
   "source": [
    "dict ={}\n",
    "\n",
    "x=str(input(\"enter your name :\"))\n",
    "dict.update({\"name\":x})\n",
    "\n",
    "x=int(input(\"enter your roll :\"))\n",
    "dict.update({\"Roll\":x})\n",
    "\n",
    "x=int(input(\"enter your science :\"))\n",
    "dict.update({\"science\":x})\n",
    "\n",
    "x=int(input(\"enter your math :\"))\n",
    "dict.update({\"math\":x})\n",
    "\n",
    "a =dict[\"science\"]\n",
    "# print (a)\n",
    "\n",
    "b=dict[\"math\"]\n",
    "# print (b)\n",
    "\n",
    "total =a+b\n",
    "print(total)\n",
    "\n",
    "average=total/2\n",
    "print(\"average is\",average)\n",
    "\n",
    "percentage=total*100//200\n",
    "print(\"percentage is\",percentage)\n",
    "\n",
    "dict.update({\"average\":average})\n",
    "dict.update({\"percentage\":percentage})\n",
    "print(dict)"
   ]
  },
  {
   "cell_type": "markdown",
   "id": "aeec414f-9824-43de-b10b-9dd19e210537",
   "metadata": {},
   "source": [
    "## Assignment-4"
   ]
  },
  {
   "cell_type": "markdown",
   "id": "bb5e29e6-f803-463d-aa4a-eaa4715855e0",
   "metadata": {},
   "source": [
    "## Assignment-5"
   ]
  },
  {
   "cell_type": "code",
   "execution_count": null,
   "id": "4ff867c6-a37c-4105-8ac6-7e319121b5ed",
   "metadata": {},
   "outputs": [],
   "source": []
  },
  {
   "cell_type": "markdown",
   "id": "9c9a9902-b069-4a40-bdc9-eb2d49dec498",
   "metadata": {},
   "source": [
    "## Assignment-6  Develop a program to manage an inventory system for a small store.\n",
    "#Input:\n",
    "#1. Prompt the user to enter items,their quantities, and prices.\n",
    "\n",
    "#2. Store the data in a dictionary where keys are item names,and values are another dictionary containing quantity and price.\n",
    "\n",
    "\n",
    "#Implement functions to:\n",
    "#1. Add a new item to the inventory.\n",
    "#2. Update the quantity or price of an existing item.\n",
    "#3. Calculate the total value of the inventory.(Sum of all items value=quantities*prices)\n",
    "\n",
    "#Outpt:\n",
    "#Display the current inventory\n",
    "#Display the total value of the inventory\n"
   ]
  },
  {
   "cell_type": "code",
   "execution_count": 1,
   "id": "223c8c8f-d5af-4220-b761-6488dce1e41a",
   "metadata": {},
   "outputs": [
    {
     "name": "stdin",
     "output_type": "stream",
     "text": [
      "Enter a Item:  pen\n",
      "Enter a quantity:  2\n",
      "Enter a price:  2\n"
     ]
    },
    {
     "name": "stdout",
     "output_type": "stream",
     "text": [
      "{'Quantities': 2, 'Prices': 2}\n",
      "{'pen': {'Quantities': 2, 'Prices': 2}}\n"
     ]
    },
    {
     "name": "stdin",
     "output_type": "stream",
     "text": [
      "enter what you want to change quantity or price?: price\n",
      "Enter a price:  33\n"
     ]
    },
    {
     "name": "stdout",
     "output_type": "stream",
     "text": [
      "{'pen': {'Quantities': 2, 'Prices': 33}}\n",
      "Total Amount is:   66\n"
     ]
    }
   ],
   "source": [
    "dict={}\n",
    "\n",
    "item =str(input(\"Enter a Item: \"))\n",
    "quantities=int(input(\"Enter a quantity: \"))\n",
    "prices=int(input(\"Enter a price: \"))\n",
    "\n",
    "# dict.update({\"item\":item})\n",
    "dict.update({\"Quantities\":quantities})\n",
    "dict.update({\"Prices\":prices})\n",
    "\n",
    "print(dict)\n",
    "dict2={item :dict}\n",
    "print(dict2)\n",
    "\n",
    "choice=str(input(\"enter what you want to change quantity or price?:\"))\n",
    "if choice==\"quantity\":\n",
    "    quantity=int(input(\"Enter a quantity: \"))\n",
    "    dict2[item][\"Quantities\"]=quantity\n",
    "    print(dict2)\n",
    "if choice==\"price\":\n",
    "    price=int(input(\"Enter a price: \"))\n",
    "    dict2[item][\"Prices\"]=price\n",
    "    print(dict2)\n",
    "else:\n",
    "    print(\"exit\")\n",
    "\n",
    "a =dict[\"Quantities\"]\n",
    "# print (a)\n",
    "\n",
    "b=dict[\"Prices\"]\n",
    "# print (b)\n",
    "\n",
    "total = a*b\n",
    "print (\"Total Amount is:  \", total)\n",
    "\n"
   ]
  },
  {
   "cell_type": "code",
   "execution_count": null,
   "id": "5e43a064-4c08-4798-85db-9e03f23a7a0f",
   "metadata": {},
   "outputs": [],
   "source": []
  },
  {
   "cell_type": "markdown",
   "id": "10e7131d-cc40-4188-82fe-51ef176c735d",
   "metadata": {
    "jp-MarkdownHeadingCollapsed": true
   },
   "source": [
    "# Lab Practice on 2 OCT"
   ]
  },
  {
   "cell_type": "markdown",
   "id": "1a8ae0fb-ccd1-44f4-ac65-cbb0653d3fc9",
   "metadata": {},
   "source": [
    "## Assignment-1  Assignment 2: Build a simple phonebook application using dictionaries.\n",
    "Input:\n",
    "Allow the user to add, search, update, and delete contacts in the phonebook.\n",
    "Each contact should have a name, phone number, and email.\n",
    "Logic:\n",
    "\n",
    "Use a dictionary where keys are contact names and values are another dictionary containing the phone number and email.\n",
    "\n",
    "Implement functions for adding, searching, updating, and deleting contacts.\n",
    "Ensure the phonebook is case-insensitive when searching for contacts.\n",
    "\n",
    "Output:\n",
    "Display all contacts after each operation.\n",
    "Display a message if a contact is not found during a search or delete operation.\n"
   ]
  },
  {
   "cell_type": "code",
   "execution_count": null,
   "id": "144e5a57-ec4c-461a-858b-6197026b2848",
   "metadata": {},
   "outputs": [
    {
     "name": "stdin",
     "output_type": "stream",
     "text": [
      "\n",
      "1.Add 2.Search 3.Update 4.Delete 5.Display 6.Exit:  1\n",
      "Name:  suraj\n",
      "Phone:  2167847825\n",
      "Email:  skc@gmail.com\n",
      "\n",
      "1.Add 2.Search 3.Update 4.Delete 5.Display 6.Exit:  5\n"
     ]
    },
    {
     "name": "stdout",
     "output_type": "stream",
     "text": [
      "{'suraj': {'phone': '2167847825', 'email': 'skc@gmail.com'}}\n"
     ]
    }
   ],
   "source": [
    "phonebook = {}\n",
    "\n",
    "def add_contact(name, phone, email):\n",
    "    phonebook[name.lower()] = {'phone': phone, 'email': email}\n",
    "\n",
    "def search_contact(name):\n",
    "    contact = phonebook.get(name.lower())\n",
    "    print(contact if contact else \"Contact not found.\")\n",
    "\n",
    "def update_contact(name, phone=None, email=None):\n",
    "    contact = phonebook.get(name.lower())\n",
    "    if contact:\n",
    "        if phone: contact['phone'] = phone\n",
    "        if email: contact['email'] = email\n",
    "    else:\n",
    "        print(\"Contact not found.\")\n",
    "\n",
    "def delete_contact(name):\n",
    "    phonebook.pop(name.lower(), None) or print(\"Contact not found.\")\n",
    "\n",
    "def display_contacts():\n",
    "    print(phonebook or \"No contacts.\")\n",
    "\n",
    "while True:\n",
    "    choice = input(\"\\n1.Add 2.Search 3.Update 4.Delete 5.Display 6.Exit: \")\n",
    "    if choice == '1':\n",
    "        add_contact(input(\"Name: \"), input(\"Phone: \"), input(\"Email: \"))\n",
    "    elif choice == '2':\n",
    "        search_contact(input(\"Name: \"))\n",
    "    elif choice == '3':\n",
    "        update_contact(input(\"Name: \"), input(\"New Phone: \"), input(\"New Email: \"))\n",
    "    elif choice == '4':\n",
    "        delete_contact(input(\"Name: \"))\n",
    "    elif choice == '5':\n",
    "        display_contacts()\n",
    "    elif choice == '6':\n",
    "        break"
   ]
  },
  {
   "cell_type": "code",
   "execution_count": null,
   "id": "548a5756-f6b0-4df6-9be0-c3e878b50615",
   "metadata": {},
   "outputs": [],
   "source": []
  },
  {
   "cell_type": "code",
   "execution_count": null,
   "id": "63455635-010d-48c8-aaa3-62b6e6d454cf",
   "metadata": {},
   "outputs": [],
   "source": []
  },
  {
   "cell_type": "markdown",
   "id": "072bc222-fb63-411a-a04a-a8e359ab6144",
   "metadata": {
    "jp-MarkdownHeadingCollapsed": true
   },
   "source": [
    "# Lab Practice on 3 Oct"
   ]
  },
  {
   "cell_type": "code",
   "execution_count": null,
   "id": "57b0a2b2-5af9-4075-81f9-9a722490d242",
   "metadata": {},
   "outputs": [],
   "source": []
  },
  {
   "cell_type": "markdown",
   "id": "41c22e16-6fe4-43fe-8b06-04c3c0b91ad4",
   "metadata": {},
   "source": [
    "## Assignment 1: Sum of Elements in a List Write a function sum_of_list(Ist) that takes a list of numbers as input and returns the sum of the elements in the list. \n"
   ]
  },
  {
   "cell_type": "code",
   "execution_count": 1,
   "id": "cdb2cecb-d888-480a-b007-88b8952eab92",
   "metadata": {},
   "outputs": [
    {
     "name": "stdout",
     "output_type": "stream",
     "text": [
      "45\n"
     ]
    }
   ],
   "source": [
    "list = [1,2,3,4,5,6,7,8,9]\n",
    "\n",
    "def add (list):\n",
    "    count=0\n",
    "    for i in list:\n",
    "        count=count+i\n",
    "    return count\n",
    "\n",
    "\n",
    "res = add(list)\n",
    "print(res)\n",
    "\n"
   ]
  },
  {
   "cell_type": "markdown",
   "id": "fe1128e8-ed02-4f1a-bae5-f523780505fd",
   "metadata": {},
   "source": [
    "### Assignment 2: Count the Frequency of Elements in a List Write a function count_frequency(Ist) that takes a list as input and returns a dictionary where the keys are the elements of the list and the values are the number of times each element appears.\n"
   ]
  },
  {
   "cell_type": "code",
   "execution_count": 2,
   "id": "769694d6-4bd1-4b1f-8da7-65c79465a822",
   "metadata": {},
   "outputs": [
    {
     "name": "stdout",
     "output_type": "stream",
     "text": [
      "{1: 1, 2: 2, 3: 2, 5: 1, 6: 1, 7: 1, 4: 1, 0: 1}\n"
     ]
    }
   ],
   "source": [
    "list_check = [1, 2, 3, 5, 6, 3, 2, 7, 4, 0] \n",
    "count_frequency = {}    \n",
    "for item in list_check:\n",
    "    if item in count_frequency:\n",
    "        count_frequency[item] += 1 \n",
    "    else: \n",
    "        count_frequency[item]  = 1 \n",
    "print(count_frequency)"
   ]
  },
  {
   "cell_type": "code",
   "execution_count": null,
   "id": "85c91973-bc81-4485-bdd4-ef787df4ec69",
   "metadata": {},
   "outputs": [],
   "source": []
  },
  {
   "cell_type": "markdown",
   "id": "64287a47-b3f4-4d51-94ee-143a625779d6",
   "metadata": {},
   "source": [
    "### Assignment 3: Return Sum and Product of Tuple Elements Write a function sum_and_product(tup) that takes a tuple of numbers as input and returns a tuple containing the sum and the product of the elements"
   ]
  },
  {
   "cell_type": "code",
   "execution_count": 5,
   "id": "bc52b9c6-1bbf-4021-905b-234d6ee59158",
   "metadata": {},
   "outputs": [
    {
     "name": "stdout",
     "output_type": "stream",
     "text": [
      "(30240, 34)\n"
     ]
    }
   ],
   "source": [
    "tup=(1,2,3,4,5,6,6,7)\n",
    "\n",
    "def sum_and_product(tup):\n",
    "    count = 0\n",
    "    for i in tup:\n",
    "        count = count + i\n",
    "\n",
    "    product = 1\n",
    "    for i in tup:\n",
    "       product = product * i\n",
    "    return product, count\n",
    "\n",
    "print(sum_and_product(tup))\n"
   ]
  },
  {
   "cell_type": "markdown",
   "id": "c4fc845e-c8b3-4809-b70c-9f4dc5011e8b",
   "metadata": {},
   "source": [
    "### Assignment 4: Given a dictionary of students and their favourite colours: people={Vinay':'Blue','Ram': 'Yellow','\"Vinod: 'Purple','Radha': 'Pink'} • Find out how many students are in the list Change Lisa's favourite colour • Remove 'Jenny' and her favourite colour • Sort and print students and their favourite colours alphabetically by name"
   ]
  },
  {
   "cell_type": "code",
   "execution_count": 6,
   "id": "5367939f-efd0-47b9-a3a3-cb72f3f7946a",
   "metadata": {},
   "outputs": [
    {
     "name": "stdout",
     "output_type": "stream",
     "text": [
      "total number of student 4\n",
      "{'vinay': 'blue', 'ram': 'red', 'radha': 'pink'}\n",
      "{'radha': 'pink', 'ram': 'red', 'vinay': 'blue'}\n",
      "{'radha': 'pink', 'ram': 'red', 'vinay': 'blue'}\n"
     ]
    }
   ],
   "source": [
    "student = {\"vinay\":\"blue\",\n",
    "          \"ram\":\"yellow\",\n",
    "          \"vinod\":\"purpule\",\n",
    "          \"radha\":\"pink\"}\n",
    "\n",
    "##total number of students\n",
    "print(\"total number of student\",len(student))\n",
    "\n",
    "## change colour\n",
    "student[\"ram\"]=\"red\"\n",
    "\n",
    "## remove student\n",
    "removed = student.pop(\"vinod\")\n",
    "\n",
    "print (student)\n",
    "\n",
    "\n",
    "p1=dict(sorted(student.items()))\n",
    "#p2=dict(sorted(student.values()))    # values will not sort\n",
    "p3=dict(sorted(student.items()))\n",
    "print(p1)\n",
    "#print(p2)\n",
    "print(p3)"
   ]
  },
  {
   "cell_type": "markdown",
   "id": "6117e6ca-5006-42fc-9b61-f92fa0b8e9a3",
   "metadata": {},
   "source": [
    "### Assignment 5: Voting System for Favorite Implement a function manage_votes() that manages votes for a list of mones Dictionary Key: movie name (string) Value: Number of votes (integer) Implement the following operations. Add a new movie: Add a new movie to the voting list with 0 initial votes Vote for a movie: Increment the vote count for a specific movie Remove a movie: Remove a movie from the voting list Display voting results. Display the current vote count for each movie Find the top movie: Find and return the movie with the highest number of votes"
   ]
  },
  {
   "cell_type": "code",
   "execution_count": null,
   "id": "d51f1857-e202-499c-9a9b-d42a991eec86",
   "metadata": {},
   "outputs": [],
   "source": [
    "def manage_votes():\n",
    "    votes = {}\n",
    "\n",
    "    while True:\n",
    "        choice = input(\"\\n1. Add Movie\\n2. Vote\\n3. Remove Movie\\n4. Results\\n5. Top Movie\\n6. Exit\\nChoose: \")\n",
    "\n",
    "        if choice == '1':\n",
    "            movie = input(\"Movie name: \")\n",
    "            votes.setdefault(movie, 0)\n",
    "\n",
    "        elif choice == '2':\n",
    "            movie = input(\"Vote for: \")\n",
    "            if movie in votes:\n",
    "                votes[movie] += 1\n",
    "            else:\n",
    "                print(\"Movie not found.\")\n",
    "\n",
    "        elif choice == '3':\n",
    "            movie = input(\"Remove movie: \")\n",
    "            votes.pop(movie, None)\n",
    "\n",
    "        elif choice == '4':\n",
    "            for movie, count in votes.items():\n",
    "                print(f\"{movie}: {count} votes\")\n",
    "\n",
    "        elif choice == '5':\n",
    "            if votes:\n",
    "                top_movie = max(votes, key=votes.get)\n",
    "                print(f\"Top movie: {top_movie} with {votes[top_movie]} votes.\")\n",
    "            else:\n",
    "                print(\"No movies available.\")\n",
    "\n",
    "        elif choice == '6':\n",
    "            break\n",
    "\n",
    "        else:\n",
    "            print(\"Invalid option.\")\n",
    "\n",
    "# Run the voting system\n",
    "manage_votes()\n"
   ]
  },
  {
   "cell_type": "code",
   "execution_count": null,
   "id": "90109cfb-924f-4f6d-8364-bd292e07b4d4",
   "metadata": {},
   "outputs": [],
   "source": []
  },
  {
   "cell_type": "markdown",
   "id": "0824f0bb-a6b4-474a-83cc-83ac2ba47758",
   "metadata": {},
   "source": [
    "### Assignment 4: program that demonstrates the use of global and local variables to calculate the sum of numbers. The program includes a global variable to store the sum, a function to calculate the local sum from a list, and a function to reset the global sum."
   ]
  },
  {
   "cell_type": "code",
   "execution_count": 7,
   "id": "357fb86e-d8a6-400b-9f1f-f8fab396ee86",
   "metadata": {},
   "outputs": [
    {
     "name": "stdout",
     "output_type": "stream",
     "text": [
      "Global sum before: 0\n",
      "Global sum after: 6\n",
      "Global sum after reset: 0\n"
     ]
    }
   ],
   "source": [
    "# Global variable\n",
    "global_sum = 0\n",
    "\n",
    "def add_numbers(numbers):\n",
    "    global global_sum\n",
    "    global_sum += sum(numbers)  # Update global sum\n",
    "\n",
    "def reset_sum():\n",
    "    global global_sum\n",
    "    global_sum = 0  # Reset the sum\n",
    "\n",
    "# Example usage\n",
    "print(f\"Global sum before: {global_sum}\")\n",
    "add_numbers([1, 2, 3])\n",
    "print(f\"Global sum after: {global_sum}\")\n",
    "reset_sum()\n",
    "print(f\"Global sum after reset: {global_sum}\")\n"
   ]
  },
  {
   "cell_type": "code",
   "execution_count": null,
   "id": "869227bc-9f57-45ee-8500-10bc3fe633bc",
   "metadata": {},
   "outputs": [],
   "source": []
  },
  {
   "cell_type": "markdown",
   "id": "2a087154-df6a-4550-b75b-180a9a50e0fb",
   "metadata": {
    "jp-MarkdownHeadingCollapsed": true
   },
   "source": [
    "# Lab Practice on 4 Oct"
   ]
  },
  {
   "cell_type": "markdown",
   "id": "65e0223a-12e1-443f-b3aa-f15d392045b7",
   "metadata": {
    "jp-MarkdownHeadingCollapsed": true
   },
   "source": [
    "## Lambada Function introduction"
   ]
  },
  {
   "cell_type": "code",
   "execution_count": 13,
   "id": "aeb4b910-723e-48d8-9cbc-c9ab6912881c",
   "metadata": {},
   "outputs": [
    {
     "name": "stdout",
     "output_type": "stream",
     "text": [
      "64\n",
      "3\n",
      "[1, 8, 27, 64, 125, 216]\n"
     ]
    }
   ],
   "source": [
    "names = \"sid\"\n",
    "\n",
    "def count():\n",
    "    a = len(names)\n",
    "    print(a)\n",
    "\n",
    "count()\n",
    "\n",
    "\n",
    "#with multiple variable\n",
    "\n",
    "def addNumbers(inum1,inum2):\n",
    "    return inum1+inum2\n",
    "\n",
    "result = addNumbers(1,2)\n",
    "print(result)\n",
    "\n",
    "#print(lambda a,b )\n",
    "\n",
    "\n",
    "#--------------------------------------------------\n",
    "def my_lambda_function(fun_name,lstnums):\n",
    "    lsatResult = []\n",
    "    for i in lstnums:\n",
    "        new_item = fun_name(i)\n",
    "        lsatResult.append(new_item)\n",
    "    return lsatResult\n",
    "lstNums = [1,2,3,4,5,6]\n",
    "lstCube = my_lambda_function(lambda x:x**3,lstNums)\n",
    "print(lstCube)\n"
   ]
  },
  {
   "cell_type": "code",
   "execution_count": null,
   "id": "a9e40214-1eaa-4516-ba0f-334e91f38587",
   "metadata": {},
   "outputs": [],
   "source": []
  },
  {
   "cell_type": "markdown",
   "id": "bcf48fe8-6fc1-47a3-8e8a-36d402ad44db",
   "metadata": {},
   "source": [
    "### Assignment 1: Multipy List of Elements by a Constant Use a lambda funciton to multiply each element in a list by a constant balue Given a list [2,3,4,5]. Multiply each element by 3 Expected output: [6,9,12,15] using map function"
   ]
  },
  {
   "cell_type": "code",
   "execution_count": 7,
   "id": "8b7ad453-9a8b-448a-8efc-bb42245262c5",
   "metadata": {},
   "outputs": [
    {
     "name": "stdout",
     "output_type": "stream",
     "text": [
      "[3, 6, 9, 12, 15]\n"
     ]
    }
   ],
   "source": [
    "num = [1,2,3,4,5]\n",
    "\n",
    "numFun = map(lambda x:x*3,num)\n",
    "##print (numFun)\n",
    "print (list(numFun))    "
   ]
  },
  {
   "cell_type": "markdown",
   "id": "ded5c396-2f13-44b5-9553-212ef2b168b7",
   "metadata": {},
   "source": [
    "### Assignment-2 if else in lambda--------------------------------------\n"
   ]
  },
  {
   "cell_type": "code",
   "execution_count": 8,
   "id": "46ae3687-86b0-4465-be7b-2d79485f9674",
   "metadata": {},
   "outputs": [
    {
     "name": "stdout",
     "output_type": "stream",
     "text": [
      "Y is greater\n"
     ]
    }
   ],
   "source": [
    "print((lambda x,y : \"Y is greater\" if x<y else \"X is greater\")(6,7))"
   ]
  },
  {
   "cell_type": "markdown",
   "id": "22fcad39-d0e8-45a7-9138-94d4760a3037",
   "metadata": {},
   "source": [
    "### Assignment-3 Conditional lambda funciton\n",
    "### Objective: Create a program that uses a lambda function to check if a number is positive negative, or zero \n",
    "\n",
    "### Tasks \n",
    "### 1.Input: List of integers,E.g. Numbers = [10,-5,0,7,-3,4,-2]\n",
    "### 2.Logic: Use the map() function with a lambda function to return \"Positive\", \"Negative\", or \"Zero\" based on the value of each integers\n",
    "### 3.Output: Display the resulting list of strings \n",
    "### E.g.['Positive','Negative','Zero','Positive','Negative','Positive','Negative']"
   ]
  },
  {
   "cell_type": "code",
   "execution_count": null,
   "id": "2bfe8b9e-a21a-4df4-b32a-19bd36bea047",
   "metadata": {},
   "outputs": [],
   "source": [
    "num =[10,-5,0,7,-3,4,-2]\n",
    "\n",
    "# print((lambda x,y : \"Y is greater\" if x<y else \"X is greater\")(6,7))\n",
    "\n",
    "numFun = map(lambda x: \"negative\" if x<0 else \"positive\" if x>0 else \"zero\" ,num  ) ##zero\n",
    "##            x value statement  condition  , statement  condition\n",
    "print (list(numFun))"
   ]
  },
  {
   "cell_type": "markdown",
   "id": "b18d2f70-62df-46a6-bb5e-1cc4c7fc7030",
   "metadata": {},
   "source": [
    "## Recursion Introduction"
   ]
  },
  {
   "cell_type": "code",
   "execution_count": 14,
   "id": "46bd5e5b-c247-45c0-8c7e-a2f2e8c301b5",
   "metadata": {},
   "outputs": [
    {
     "name": "stdout",
     "output_type": "stream",
     "text": [
      "[1, 2, 3, 4, 5]\n",
      "[2, 3, 4, 5]\n",
      "[3, 4, 5]\n",
      "[4, 5]\n",
      "[5]\n",
      "[]\n",
      "The sum is:  15\n"
     ]
    }
   ],
   "source": [
    "def recursive_sum(numbers):\n",
    "    print(numbers)\n",
    "\n",
    "    if not numbers:\n",
    "        return 0\n",
    "    else:\n",
    "        return numbers[0] + recursive_sum(numbers[1:])\n",
    "    \n",
    "numbers = [1, 2, 3, 4, 5]\n",
    "result = recursive_sum(numbers)\n",
    "print(\"The sum is: \", result)"
   ]
  },
  {
   "cell_type": "markdown",
   "id": "cfe1d42e-c125-467d-abf4-57d09bcefc0c",
   "metadata": {},
   "source": [
    "## Homework assignment "
   ]
  },
  {
   "cell_type": "markdown",
   "id": "bdcfba25-cfed-49c1-997b-2183694004f6",
   "metadata": {},
   "source": [
    "### Assignment-1  Convert factorial program to use recursive functions"
   ]
  },
  {
   "cell_type": "code",
   "execution_count": null,
   "id": "965f2b7f-aa0b-4a91-b4b1-3fc8523c0543",
   "metadata": {},
   "outputs": [],
   "source": [
    "def factorial(n):\n",
    "    # Base case: 0! = 1\n",
    "    if n == 0:\n",
    "        return 1\n",
    "    # Recursive case: n! = n * (n - 1)!\n",
    "    else:\n",
    "        return n * factorial(n - 1)\n",
    "\n",
    "# Example usage\n",
    "number = 5\n",
    "result = factorial(number)\n",
    "print(f\"The factorial of {number} is {result}.\")\n"
   ]
  },
  {
   "cell_type": "markdown",
   "id": "56619b6e-e188-4e83-abcc-6c11e7f01670",
   "metadata": {},
   "source": [
    "### Assignment-2  Assignment 1: Convert Celsius to Fahrenheit Use a lambda function with map() to convert a list of temperatures from Celsius to Fahrenheit. • Given a list of temperatures in Celsius [0, 20, 37, 100], use map() and a lambda function to convert each value to Fahrenheit using the formula F = (C* 9/5) + 32. • Expected Output: [32.0, 68.0, 98.6, 212.0]"
   ]
  },
  {
   "cell_type": "code",
   "execution_count": 1,
   "id": "4b571312-8727-4bfa-a6ed-5018636ecaaf",
   "metadata": {},
   "outputs": [
    {
     "name": "stdout",
     "output_type": "stream",
     "text": [
      "[32.0, 68.0, 98.6, 212.0]\n"
     ]
    }
   ],
   "source": [
    "# List of temperatures in Celsius\n",
    "celsius_temps = [0, 20, 37, 100]\n",
    "\n",
    "# Convert to Fahrenheit using map() and a lambda function\n",
    "fahrenheit_temps = list(map(lambda C: (C * 9/5) + 32, celsius_temps))\n",
    "\n",
    "# Print the result\n",
    "print(fahrenheit_temps)  # Expected Output: [32.0, 68.0, 98.6, 212.0]\n"
   ]
  },
  {
   "cell_type": "code",
   "execution_count": null,
   "id": "98ac4ddb-4e6f-49fd-9209-330107a4cfa1",
   "metadata": {},
   "outputs": [],
   "source": []
  },
  {
   "cell_type": "markdown",
   "id": "23d1378b-063b-455f-95af-85f7c6559097",
   "metadata": {},
   "source": [
    "### Assignment 3: Add Two Lists Element-wise • Use a lambda function with map() to add corresponding elements from two lists. • Given two lists [1, 2, 3] and [4, 5, 6], use map() and a lambda function to return a new list where each element is the sum of the corresponding elements from the two lists. Expected Output: [5, 7, 9]"
   ]
  },
  {
   "cell_type": "code",
   "execution_count": 3,
   "id": "eed78d64-48f3-483a-a93f-a8793573ca79",
   "metadata": {},
   "outputs": [
    {
     "name": "stdout",
     "output_type": "stream",
     "text": [
      "[5, 7, 9]\n"
     ]
    }
   ],
   "source": [
    "# Two lists to be added element-wise\n",
    "list1 = [1, 2, 3]\n",
    "list2 = [4, 5, 6]\n",
    "\n",
    "# Add corresponding elements using map() and a lambda function\n",
    "summed_list = list(map(lambda x, y: x + y, list1, list2))\n",
    "\n",
    "# Print the result\n",
    "print(summed_list)  \n"
   ]
  },
  {
   "cell_type": "markdown",
   "id": "1e22030b-9cbe-476a-a3e2-6ea0f392996d",
   "metadata": {},
   "source": [
    "### Assignment 4: Capitalize Words in a List Use a lambda function with map() to capitalize the first letter of each word in a list. • Given a list of lowercase words ['apple', 'banana', 'cherry'], use map() and a lambda function to capitalize each word. Expected Output: ['Apple', 'Banana', 'Cherry']"
   ]
  },
  {
   "cell_type": "code",
   "execution_count": 4,
   "id": "2fd4a1c8-7fc4-4606-bb6a-98cd35d175e8",
   "metadata": {},
   "outputs": [
    {
     "name": "stdout",
     "output_type": "stream",
     "text": [
      "['Apple', 'Banana', 'Cherry']\n"
     ]
    }
   ],
   "source": [
    "# List of lowercase words\n",
    "words = ['apple', 'banana', 'cherry']\n",
    "\n",
    "# Capitalize each word using map() and a lambda function\n",
    "capitalized_words = list(map(lambda word: word.capitalize(), words))\n",
    "\n",
    "# Print the result\n",
    "print(capitalized_words)  # Expected Output: ['Apple', 'Banana', 'Cherry']\n"
   ]
  },
  {
   "cell_type": "markdown",
   "id": "4c13f85a-a900-416c-be87-a2154696a17a",
   "metadata": {},
   "source": [
    "### Assignment 5: Find the Length of Strings • Use a lambda function with map() to find the length of each string in a list. • Given a list of strings ['hello', 'world', 'python'], use map() and a lambda function to return a new list containing the length of each string. Expected Output: [5, 5, 6]"
   ]
  },
  {
   "cell_type": "code",
   "execution_count": 5,
   "id": "725edc45-7310-4a6e-9989-94dd192ae07d",
   "metadata": {},
   "outputs": [
    {
     "name": "stdout",
     "output_type": "stream",
     "text": [
      "[5, 5, 6]\n"
     ]
    }
   ],
   "source": [
    "# List of strings\n",
    "strings = ['hello', 'world', 'python']\n",
    "\n",
    "# Find the length of each string using map() and a lambda function\n",
    "lengths = list(map(lambda s: len(s), strings))\n",
    "\n",
    "# Print the result\n",
    "print(lengths)  # Expected Output: [5, 5, 6]\n"
   ]
  },
  {
   "cell_type": "markdown",
   "id": "31027642-9f8e-4384-95c0-b27c4fb9d75d",
   "metadata": {},
   "source": [
    "### Assignment 6: Daily Temperature Tracker Create a dictionary to store and manipulate daily temperature data for a week. Write a program that stores daily high temperatures for a week in a dictionary, where keys are days of the week and values are temperatures. The program should: • Allow the user to update the temperature for any day. • Calculate the average temperature for the week. • Example Input: {'Monday': 30, 'Tuesday': 32, 'Wednesday': 29, 'Thursday': 31, 'Friday': 30, 'Saturday': 28, 'Sunday': 27} • Expected Output: Average temperature: 29.57°C."
   ]
  },
  {
   "cell_type": "code",
   "execution_count": 6,
   "id": "a10fb049-adff-45ab-8c8e-ee386a1081e9",
   "metadata": {},
   "outputs": [
    {
     "name": "stdout",
     "output_type": "stream",
     "text": [
      "Average temperature: 30.43°C\n"
     ]
    }
   ],
   "source": [
    "# Initialize the temperature data for a week\n",
    "temperatures = {\n",
    "    'Monday': 30,\n",
    "    'Tuesday': 32,\n",
    "    'Wednesday': 29,\n",
    "    'Thursday': 31,\n",
    "    'Friday': 30,\n",
    "    'Saturday': 28,\n",
    "    'Sunday': 27\n",
    "}\n",
    "\n",
    "# Function to calculate average temperature\n",
    "def calculate_average(temps):\n",
    "    return sum(temps.values()) / len(temps)\n",
    "\n",
    "# Update temperature for a specific day\n",
    "day_to_update = 'Wednesday'\n",
    "new_temp = 35\n",
    "temperatures[day_to_update] = new_temp\n",
    "\n",
    "# Calculate and print the average temperature\n",
    "average_temp = calculate_average(temperatures)\n",
    "print(f\"Average temperature: {average_temp:.2f}°C\")\n"
   ]
  },
  {
   "cell_type": "markdown",
   "id": "4335c720-5779-4087-a1cf-e4ca03eefd2e",
   "metadata": {},
   "source": [
    "### Homework Assignment 7: Bird Species Observation Tracker Create a dictionary to track the number of sightings of different bird species. Given a dictionary where keys are bird species (e.g., 'sparrow', 'eagle') and values are the number of sightings, write a program to: Add a new species with its count. • Update the sighting count for an existing species. Display the bird with the highest number of sightings. Example Input: {'sparrow': 10, 'eagle': 5, 'hawk': 7} • Expected Output: The bird with the highest sightings is 'sparrow'."
   ]
  },
  {
   "cell_type": "code",
   "execution_count": 15,
   "id": "57ae75ea-5688-4021-8c70-1c85f4f939a3",
   "metadata": {},
   "outputs": [
    {
     "name": "stdout",
     "output_type": "stream",
     "text": [
      "The bird with the highest sightings is 'sparrow'.\n"
     ]
    }
   ],
   "source": [
    "# Initialize the bird sightings dictionary\n",
    "bird_sightings = {\n",
    "    'sparrow': 10,\n",
    "    'eagle': 5,\n",
    "    'hawk': 7\n",
    "}\n",
    "\n",
    "# Add or update species\n",
    "bird_sightings['finch'] = 3  # Adding a new species\n",
    "bird_sightings['eagle'] += 2  # Updating existing species\n",
    "\n",
    "# Find the bird with the highest sightings\n",
    "highest_bird = max(bird_sightings, key=bird_sightings.get)\n",
    "\n",
    "# Output the result\n",
    "print(f\"The bird with the highest sightings is '{highest_bird}'.\")\n"
   ]
  },
  {
   "cell_type": "code",
   "execution_count": null,
   "id": "5e1cd1a7-82b9-4299-a759-8584803ba87e",
   "metadata": {},
   "outputs": [],
   "source": []
  },
  {
   "cell_type": "markdown",
   "id": "6f816c17-f7e1-4820-9132-d4cd4f4719ff",
   "metadata": {
    "jp-MarkdownHeadingCollapsed": true
   },
   "source": [
    "# lab Practice 7 Oct"
   ]
  },
  {
   "cell_type": "markdown",
   "id": "6450e76f-2ca3-4b8e-9fe4-ccc3df570e5b",
   "metadata": {},
   "source": [
    "## Assignment 1: Create a .txt file and print contents on console"
   ]
  },
  {
   "cell_type": "code",
   "execution_count": 2,
   "id": "5daa0e6e-1a8b-4774-983f-8f4312b93217",
   "metadata": {},
   "outputs": [
    {
     "name": "stdout",
     "output_type": "stream",
     "text": [
      "Hello, this is a sample text file.\n",
      "This file contains multiple lines of text.\n",
      "Python is great for file handling!\n"
     ]
    }
   ],
   "source": [
    "# Create a .txt file and write some content to it\n",
    "with open('sample.txt', 'w') as file:\n",
    "    file.write(\"Hello, this is a sample text file.\\n\")\n",
    "    file.write(\"This file contains multiple lines of text.\\n\")\n",
    "    file.write(\"Python is great for file handling!\")\n",
    "\n",
    "# Read the .txt file and print its contents\n",
    "with open('sample.txt', 'r') as file:\n",
    "    contents = file.read()\n",
    "    print(contents)\n"
   ]
  },
  {
   "cell_type": "markdown",
   "id": "aeacce90-5978-460a-8c06-02a86f290c6e",
   "metadata": {},
   "source": [
    "## Assignment 2: Read a .txt file and print contents on console"
   ]
  },
  {
   "cell_type": "code",
   "execution_count": 3,
   "id": "f6bd6fea-0dc9-4ba0-aba5-750102fdabc3",
   "metadata": {},
   "outputs": [
    {
     "name": "stdout",
     "output_type": "stream",
     "text": [
      "Hello, this is a sample text file.\n",
      "This file contains multiple lines of text.\n",
      "Python is great for file handling!\n"
     ]
    }
   ],
   "source": [
    "# Reading a .txt file and printing contents\n",
    "with open('sample.txt', 'r') as file:\n",
    "    print(file.read())\n"
   ]
  },
  {
   "cell_type": "markdown",
   "id": "587e84a4-a1f2-42e5-b793-8250ff61c8a6",
   "metadata": {},
   "source": [
    "## Assignment 3: Accept Name, Age, Marks of a student from a user and store in a .csv file"
   ]
  },
  {
   "cell_type": "code",
   "execution_count": 4,
   "id": "8955ee74-b0b4-4e90-8a7e-5a394241daa2",
   "metadata": {},
   "outputs": [
    {
     "name": "stdin",
     "output_type": "stream",
     "text": [
      "Enter name:  suraj\n",
      "Enter age:  22\n",
      "Enter marks:  99\n"
     ]
    },
    {
     "name": "stdout",
     "output_type": "stream",
     "text": [
      "Student details saved to CSV.\n"
     ]
    }
   ],
   "source": [
    "import csv\n",
    "\n",
    "# Accept student details and write to CSV\n",
    "name = input(\"Enter name: \")\n",
    "age = input(\"Enter age: \")\n",
    "marks = input(\"Enter marks: \")\n",
    "\n",
    "with open('students.csv', 'a', newline='') as file:\n",
    "    writer = csv.writer(file)\n",
    "    writer.writerow([name, age, marks])\n",
    "\n",
    "print(\"Student details saved to CSV.\")\n"
   ]
  },
  {
   "cell_type": "markdown",
   "id": "1eb36a08-2b71-474f-954a-7f817c026965",
   "metadata": {},
   "source": [
    "### Assignment 4: Store dictionc csv file\n",
    "\n",
    "- Accept student details from user (Name, Roll No, Science, Maths, English marks), store in a list of dictionaries.\n",
    "\n",
    "- Calculate average for each student and add to dictionary.\n",
    "\n",
    "- Open file in append mode.\n",
    "\n",
    "- Add list of dictionaries to file."
   ]
  },
  {
   "cell_type": "code",
   "execution_count": 5,
   "id": "699824e6-9275-424d-9a27-25dae2d6493c",
   "metadata": {},
   "outputs": [
    {
     "name": "stdin",
     "output_type": "stream",
     "text": [
      "Name:  suraj\n",
      "Roll No:  1\n",
      "Science:  99\n",
      "Maths:  99\n",
      "English:  99\n",
      "Add another student? (yes/no):  n\n"
     ]
    },
    {
     "name": "stdout",
     "output_type": "stream",
     "text": [
      "Details saved to CSV.\n"
     ]
    }
   ],
   "source": [
    "import csv\n",
    "\n",
    "# Collect student details and calculate average\n",
    "students = []\n",
    "while True:\n",
    "    student = {\n",
    "        'Name': input(\"Name: \"),\n",
    "        'Roll No': input(\"Roll No: \"),\n",
    "        'Science': int(input(\"Science: \")),\n",
    "        'Maths': int(input(\"Maths: \")),\n",
    "        'English': int(input(\"English: \"))\n",
    "    }\n",
    "    student['Average'] = (student['Science'] + student['Maths'] + student['English']) / 3\n",
    "    students.append(student)\n",
    "    \n",
    "    if input(\"Add another student? (yes/no): \").lower() != 'yes':\n",
    "        break\n",
    "\n",
    "# Append to CSV file\n",
    "with open('students_records.csv', 'a', newline='') as file:\n",
    "    writer = csv.DictWriter(file, fieldnames=['Name', 'Roll No', 'Science', 'Maths', 'English', 'Average'])\n",
    "    if file.tell() == 0:\n",
    "        writer.writeheader()\n",
    "    writer.writerows(students)\n",
    "\n",
    "print(\"Details saved to CSV.\")\n"
   ]
  },
  {
   "cell_type": "markdown",
   "id": "1ae6ff09-3ca0-4511-978e-ee88f636933e",
   "metadata": {},
   "source": [
    "### Assignment 5: Replace a Keyword in a text file.  \n",
    "- Search for all occurrences of keyword after, replace it with \"before\". \n",
    "- Save modified content back to file "
   ]
  },
  {
   "cell_type": "code",
   "execution_count": 7,
   "id": "6ea09622-ab58-44dd-9818-1261fa90bc1e",
   "metadata": {},
   "outputs": [
    {
     "name": "stdout",
     "output_type": "stream",
     "text": [
      "All occurrences of 'after' have been replaced with 'before' Keyword.\n"
     ]
    }
   ],
   "source": [
    "# Specify the filename\n",
    "filename = 'sample.txt'\n",
    "\n",
    "# Read the original content\n",
    "with open(filename, 'r') as file:\n",
    "    content = file.read()\n",
    "\n",
    "# Replace 'after' with 'before'\n",
    "modified_content = content.replace('after', 'before')\n",
    "\n",
    "# Save modified content back to the file\n",
    "with open(filename, 'w') as file:\n",
    "    file.write(modified_content)\n",
    "\n",
    "print(\"All occurrences of 'after' have been replaced with 'before' Keyword.\")\n"
   ]
  },
  {
   "cell_type": "code",
   "execution_count": null,
   "id": "2e0259c8-d6be-489a-b566-374ed04d5500",
   "metadata": {},
   "outputs": [],
   "source": []
  },
  {
   "cell_type": "markdown",
   "id": "f337df23-ea7b-4fae-906a-5e7417b7bce6",
   "metadata": {
    "jp-MarkdownHeadingCollapsed": true
   },
   "source": [
    "# lab Practice on 8 Oct"
   ]
  },
  {
   "cell_type": "markdown",
   "id": "d1183c7b-888c-4114-9be8-2706df852977",
   "metadata": {},
   "source": [
    "### Assignment 1: Write and Read a List of numbers Create a list of random numbers.\n",
    "Write the list to a file numbers.txt with each number on a new line.\n",
    "\n",
    "Read the file and store the numbers in a new list Calculate and display the sum of the numbers."
   ]
  },
  {
   "cell_type": "code",
   "execution_count": null,
   "id": "117e0826-2d31-4dbc-a713-66d315a385b9",
   "metadata": {},
   "outputs": [],
   "source": [
    "# Create a list of random numbers\n",
    "numbers = [1, 3, 4, 5, 7, 8, 86, 5, 4, 3, 3, 4, 56, 0]\n",
    "\n",
    "# Write the list to a file numbers.txt with each number on a new line\n",
    "with open(\"numbers.txt\", \"w\") as file:\n",
    "    for num in numbers:\n",
    "        file.write(f\"{num}\\n\")\n",
    "\n",
    "# Read the file and store the numbers in a new list\n",
    "with open(\"numbers.txt\", \"r\") as file:\n",
    "    new_numbers = [int(line.strip()) for line in file]\n",
    "\n",
    "# Calculate and display the sum of the numbers\n",
    "total_sum = sum(new_numbers)\n",
    "print(total_sum)\n",
    "\n",
    "# Optionally, write the total sum to the file\n",
    "with open(\"numbers.txt\", \"a\") as file:\n",
    "    file.write(f\"{total_sum}\\n\")\n"
   ]
  },
  {
   "cell_type": "markdown",
   "id": "526055ba-0867-4c63-8d1c-dc1e769e4172",
   "metadata": {},
   "source": [
    "### ASSIG-2 Assignment 1: Create a Class for a Library\n",
    "Objective: Create a class that represents a library and allows basic operations like checking availability and borrowing books.\n",
    "\n",
    "Class Attributes:\n",
    "book_title (string)\n",
    "book_author (string)\n",
    "available (boolean)\n",
    "\n",
    "Methods:\n",
    "\n",
    "Constructor: Sets class attributes for each book.\n",
    "borrow_book(): Changes the availability status to False if the book is available; otherwise, print \"Not available.\"\n",
    "\n",
    "return_book(): Changes the availability status back to True.\n",
    "\n",
    "display_info(): Prints the book's title, author, and availability status.\n",
    "\n",
    "Instructions:\n",
    "Create two book objects (e.g., book1 and book2) and demonstrate borrowing, returning, and displaying book information."
   ]
  },
  {
   "cell_type": "code",
   "execution_count": 1,
   "id": "a57d1f96-4857-4a98-a499-ad1f05810a22",
   "metadata": {},
   "outputs": [
    {
     "name": "stdout",
     "output_type": "stream",
     "text": [
      "Title: Book One, Author: Author A, Available: True\n",
      "Title: Book Two, Author: Author B, Available: True\n",
      "You have borrowed 'Book One'\n",
      "'Book One' is not available\n",
      "You have borrowed 'Book Two'\n",
      "You have returned 'Book Two'\n"
     ]
    }
   ],
   "source": [
    "\n",
    "class Library:\n",
    "    def __init__(self, title, author, available=True):\n",
    "        self.title = title\n",
    "        self.author = author\n",
    "        self.available = available\n",
    "\n",
    "    def borrow_book(self):\n",
    "        if self.available:\n",
    "            print(f\"You have borrowed '{self.title}'\")\n",
    "            self.available = False\n",
    "        else:\n",
    "            print(f\"'{self.title}' is not available\")\n",
    "\n",
    "    def return_book(self):\n",
    "        self.available = True\n",
    "        print(f\"You have returned '{self.title}'\")\n",
    "\n",
    "    def display_info(self):\n",
    "        print(f\"Title: {self.title}, Author: {self.author}, Available: {self.available}\")\n",
    "\n",
    "\n",
    "if __name__ == \"__main__\":\n",
    "    book1 = Library(\"Book One\", \"Author A\")\n",
    "    book2 = Library(\"Book Two\", \"Author B\")\n",
    "\n",
    "    # Display initial information\n",
    "    book1.display_info()\n",
    "    book2.display_info()\n",
    "\n",
    "    # Borrow book1 and try to borrow it again\n",
    "    book1.borrow_book()\n",
    "    book1.borrow_book()\n",
    "\n",
    "    # Borrow and return book2\n",
    "    book2.borrow_book()\n",
    "    book2.return_book()\n",
    "\n",
    "\n",
    "\n",
    "\n"
   ]
  },
  {
   "cell_type": "markdown",
   "id": "cd350a06-0eaa-4a7a-8aa2-4778c526a1f4",
   "metadata": {},
   "source": [
    "### Assignment 3: Create a class clsSchool Class Variable: school_name = \"Green Valley High School\" is a class variable that is common to all students.\n",
    "\n",
    "Instance Variables: name, student_id, maths_Marks, science Marks, English Marks, average Methods: constructor which will initialise name, student id and rest of attributes will be initialised to 0.\n",
    "\n",
    "add_marks(): Allows adding or updating marks for a specific subject.\n",
    "\n",
    "calculate_average(): Calculates the average of all marks for a student and initializes the average variable.\n",
    "\n",
    "display_info(): Displays the student's details, marks, and average marks"
   ]
  },
  {
   "cell_type": "code",
   "execution_count": 2,
   "id": "5ca98448-1187-47e2-9c55-af695edfd442",
   "metadata": {},
   "outputs": [
    {
     "name": "stdout",
     "output_type": "stream",
     "text": [
      "School Name: Green Valley High School\n",
      "Name: John, ID: 2\n",
      "Maths: 85, Science: 90, English: 88\n",
      "Average: 87.67\n"
     ]
    }
   ],
   "source": [
    "class clsSchool:\n",
    "    # Class variable\n",
    "    school_name = \"Green Valley High School\"\n",
    "\n",
    "    def __init__(self, name, student_id):\n",
    "        self.name = name\n",
    "        self.student_id = student_id\n",
    "        self.maths_marks = self.science_marks = self.english_marks = self.average_marks = 0\n",
    "\n",
    "    # Method to add marks for a subject\n",
    "    def add_marks(self, subject, marks):\n",
    "        setattr(self, f\"{subject}_marks\", marks)\n",
    "\n",
    "    # Method to calculate the average marks\n",
    "    def calculate_average(self):\n",
    "        self.average_marks = (self.maths_marks + self.science_marks + self.english_marks) / 3\n",
    "\n",
    "    # Method to display student's information, including school name\n",
    "    def display(self):\n",
    "        print(f\"School Name: {clsSchool.school_name}\")\n",
    "        print(f\"Name: {self.name}, ID: {self.student_id}\")\n",
    "        print(f\"Maths: {self.maths_marks}, Science: {self.science_marks}, English: {self.english_marks}\")\n",
    "        print(f\"Average: {self.average_marks:.2f}\")\n",
    "\n",
    "# Main block to create student and assign marks\n",
    "if __name__ == \"__main__\":\n",
    "    # Creating a student instance\n",
    "    student = clsSchool(\"John\", 2)\n",
    "\n",
    "    # Adding marks for each subject\n",
    "    student.add_marks(\"maths\", 85)\n",
    "    student.add_marks(\"science\", 90)\n",
    "    student.add_marks(\"english\", 88)\n",
    "\n",
    "    # Calculate the average marks\n",
    "    student.calculate_average()\n",
    "\n",
    "    # Display student's details\n",
    "    student.display()"
   ]
  },
  {
   "cell_type": "code",
   "execution_count": null,
   "id": "cf6e50cd-0790-4789-8ca1-300540524eae",
   "metadata": {},
   "outputs": [],
   "source": []
  },
  {
   "cell_type": "markdown",
   "id": "0638a2de-c87d-4952-bbae-cb41d726d57d",
   "metadata": {},
   "source": [
    "### Assignment 4: Create a class cisSchool Class Variable: school_name = \"Green Valley High School\" is a class variable that is common to all students\n",
    "\n",
    "Instance Variables: name, student id, marks (maths:100.science:99,english:98.average) Methods: constructor which will initialise name, student id and rest of attributes will be inalised to \n",
    "\n",
    "add_marks(): Allows adding or updating marks for a specific subject \n",
    "\n",
    "calculate average(): Calculates the average of all marks for a student and initialestre seragen\n",
    "\n",
    "display_info(): Displays the student's details, marks, and average marks. \n",
    "\n",
    "Challenge: Display name of the topper"
   ]
  },
  {
   "cell_type": "markdown",
   "id": "98b82c90-ce8b-4270-85c4-0719d1a7e7e6",
   "metadata": {},
   "source": [
    "##  METHOD-1"
   ]
  },
  {
   "cell_type": "code",
   "execution_count": 3,
   "id": "2c295ed3-7767-4050-a453-eebb445e9ba0",
   "metadata": {},
   "outputs": [
    {
     "name": "stdout",
     "output_type": "stream",
     "text": [
      "School Name: Green Valley High School\n",
      "Name: John, ID: 2\n",
      "Maths: 85, Science: 90, English: 88\n",
      "Average: 87.67\n",
      "School Name: Green Valley High School\n",
      "Name: Ram, ID: 3\n",
      "Maths: 95, Science: 80, English: 92\n",
      "Average: 89.00\n",
      "\n",
      "Topper: Ram with an average of 89.00\n"
     ]
    }
   ],
   "source": [
    "class clsSchool:\n",
    "    # Class variable\n",
    "    school_name = \"Green Valley High School\"\n",
    "\n",
    "    def __init__(self, name, student_id):\n",
    "        self.name = name\n",
    "        self.student_id = student_id\n",
    "        self.maths_marks = self.science_marks = self.english_marks = self.average_marks = 0\n",
    "\n",
    "    # Method to add marks for a subject\n",
    "    def add_marks(self, subject, marks):\n",
    "        setattr(self, f\"{subject}_marks\", marks)\n",
    "\n",
    "    # Method to calculate the average marks\n",
    "    def calculate_average(self):\n",
    "        self.average_marks = (self.maths_marks + self.science_marks + self.english_marks) / 3\n",
    "\n",
    "    # Method to display student's information, including school name\n",
    "    def display(self):\n",
    "        print(f\"School Name: {clsSchool.school_name}\")\n",
    "        print(f\"Name: {self.name}, ID: {self.student_id}\")\n",
    "        print(f\"Maths: {self.maths_marks}, Science: {self.science_marks}, English: {self.english_marks}\")\n",
    "        print(f\"Average: {self.average_marks:.2f}\")\n",
    "\n",
    "# Main block to create students and assign marks\n",
    "if __name__ == \"__main__\":\n",
    "    # Creating student instances\n",
    "    student1 = clsSchool(\"John\", 2)\n",
    "    student2 = clsSchool(\"Ram\", 3)\n",
    "\n",
    "    # Adding marks for each subject\n",
    "    student1.add_marks(\"maths\", 85)\n",
    "    student1.add_marks(\"science\", 90)\n",
    "    student1.add_marks(\"english\", 88)\n",
    "\n",
    "    student2.add_marks(\"maths\", 95)\n",
    "    student2.add_marks(\"science\", 80)\n",
    "    student2.add_marks(\"english\", 92)\n",
    "\n",
    "    # Calculate the average marks\n",
    "    student1.calculate_average()\n",
    "    student2.calculate_average()\n",
    "\n",
    "    # Display student's details\n",
    "    student1.display()\n",
    "    student2.display()\n",
    "\n",
    "    # Determine and display the topper\n",
    "    if student1.average_marks > student2.average_marks:\n",
    "        topper = student1\n",
    "    elif student2.average_marks > student1.average_marks:\n",
    "        topper = student2\n",
    "    else:\n",
    "        topper = None  # In case of a tie\n",
    "\n",
    "    # Display topper information\n",
    "    if topper:\n",
    "        print(f\"\\nTopper: {topper.name} with an average of {topper.average_marks:.2f}\")\n",
    "    else:\n",
    "        print(\"\\nIt's a tie!\")"
   ]
  },
  {
   "cell_type": "markdown",
   "id": "934701c4-48d9-41fd-aa7a-742c43d68f0b",
   "metadata": {},
   "source": [
    " ##  METHOD-2"
   ]
  },
  {
   "cell_type": "code",
   "execution_count": 4,
   "id": "a6a7eff3-c467-45e2-9338-fd26539b8d63",
   "metadata": {},
   "outputs": [
    {
     "name": "stdout",
     "output_type": "stream",
     "text": [
      "School Name: Green Valley High School\n",
      "Name: John, ID: 2\n",
      "Maths: 85, Science: 90, English: 88\n",
      "Average: 87.67\n",
      "School Name: Green Valley High School\n",
      "Name: Ram, ID: 3\n",
      "Maths: 95, Science: 80, English: 92\n",
      "Average: 89.00\n",
      "School Name: Green Valley High School\n",
      "Name: Alice, ID: 4\n",
      "Maths: 78, Science: 85, English: 82\n",
      "Average: 81.67\n",
      "\n",
      "Topper: Ram with an average of 89.00\n"
     ]
    }
   ],
   "source": [
    "#Here we make a individual function that display the Topper_\n",
    "\n",
    "class clsSchool:\n",
    "    # Class variable\n",
    "    school_name = \"Green Valley High School\"\n",
    "\n",
    "    def __init__(self, name, student_id):\n",
    "        self.name = name\n",
    "        self.student_id = student_id\n",
    "        self.maths_marks = self.science_marks = self.english_marks = self.average_marks = 0\n",
    "\n",
    "    # Method to add marks for a subject\n",
    "    def add_marks(self, subject, marks):\n",
    "        setattr(self, f\"{subject}_marks\", marks)\n",
    "\n",
    "    # Method to calculate the average marks\n",
    "    def calculate_average(self):\n",
    "        self.average_marks = (self.maths_marks + self.science_marks + self.english_marks) / 3\n",
    "\n",
    "    # Method to display student's information\n",
    "    def display(self):\n",
    "        print(f\"School Name: {clsSchool.school_name}\")\n",
    "        print(f\"Name: {self.name}, ID: {self.student_id}\")\n",
    "        print(f\"Maths: {self.maths_marks}, Science: {self.science_marks}, English: {self.english_marks}\")\n",
    "        print(f\"Average: {self.average_marks:.2f}\")\n",
    "\n",
    "\n",
    "def find_topper(students):\n",
    "    \"\"\"Function to find and display the topper among students.\"\"\"\n",
    "    if not students:\n",
    "        print(\"No students available.\")\n",
    "        return\n",
    "\n",
    "    topper = students[0]\n",
    "    for student in students[1:]:\n",
    "        if student.average_marks > topper.average_marks:\n",
    "            topper = student\n",
    "\n",
    "    print(f\"\\nTopper: {topper.name} with an average of {topper.average_marks:.2f}\")\n",
    "\n",
    "\n",
    "# Main block to create students and assign marks\n",
    "if __name__ == \"__main__\":\n",
    "    # Creating student instances\n",
    "    students = [\n",
    "        clsSchool(\"John\", 2),\n",
    "        clsSchool(\"Ram\", 3),\n",
    "        clsSchool(\"Alice\", 4)\n",
    "    ]\n",
    "\n",
    "    # Adding marks for each student\n",
    "    students[0].add_marks(\"maths\", 85)\n",
    "    students[0].add_marks(\"science\", 90)\n",
    "    students[0].add_marks(\"english\", 88)\n",
    "\n",
    "    students[1].add_marks(\"maths\", 95)\n",
    "    students[1].add_marks(\"science\", 80)\n",
    "    students[1].add_marks(\"english\", 92)\n",
    "\n",
    "    students[2].add_marks(\"maths\", 78)\n",
    "    students[2].add_marks(\"science\", 85)\n",
    "    students[2].add_marks(\"english\", 82)\n",
    "\n",
    "    # Calculate the average marks for all students\n",
    "    for student in students:\n",
    "        student.calculate_average()\n",
    "        student.display()\n",
    "\n",
    "    # Find and display the topper\n",
    "    find_topper(students)\n",
    "\n",
    "\n"
   ]
  },
  {
   "cell_type": "code",
   "execution_count": null,
   "id": "48f8f743-d9f8-41db-98e8-0a4d41665794",
   "metadata": {},
   "outputs": [],
   "source": []
  },
  {
   "cell_type": "markdown",
   "id": "5b129332-ba64-4441-883e-713202d7a60b",
   "metadata": {},
   "source": [
    "### Assignment-5  Sorting Data from File\n",
    "\n",
    "• Create a csv file which holds a list of words \n",
    "\n",
    "• Read data from the file into a list.\n",
    "\n",
    "• Sort the list in ascending order.\n",
    "\n",
    "• Write the sorted data back to the file, also print on console"
   ]
  },
  {
   "cell_type": "code",
   "execution_count": 9,
   "id": "60eaa6d3-3d93-4596-b6cc-00ea8dce9d2c",
   "metadata": {},
   "outputs": [
    {
     "name": "stdout",
     "output_type": "stream",
     "text": [
      "['Apple', 'Banana', 'Cherry', 'Date']\n"
     ]
    }
   ],
   "source": [
    "import csv\n",
    "\n",
    "# Step 1: Create a CSV file and write initial data\n",
    "with open('new.csv', mode='w', newline='', encoding='utf-8') as file:\n",
    "    writer = csv.writer(file)\n",
    "    writer.writerow(['Banana', 'Apple', 'Cherry', 'Date'])\n",
    "\n",
    "# Step 2: Read and sort data from the CSV file\n",
    "with open('new.csv', mode='r', newline='', encoding='utf-8') as file:\n",
    "    reader = csv.reader(file)\n",
    "    sorted_list = sorted(next(reader))  # Sort the first row\n",
    "\n",
    "print(sorted_list)\n",
    "\n",
    "# Step 3: Append sorted data back to the CSV file\n",
    "with open('new.csv', mode='a', newline='', encoding='utf-8') as file:\n",
    "    writer = csv.writer(file)\n",
    "    writer.writerow(sorted_list)\n"
   ]
  },
  {
   "cell_type": "code",
   "execution_count": null,
   "id": "c873f7d7-a10b-4ea8-b7e8-054efa9655d7",
   "metadata": {},
   "outputs": [],
   "source": []
  },
  {
   "cell_type": "code",
   "execution_count": null,
   "id": "2e6d911d-dd89-4a35-8335-557a9cddb1b2",
   "metadata": {},
   "outputs": [],
   "source": []
  },
  {
   "cell_type": "markdown",
   "id": "b155ba0e-929b-4fa3-acd4-6d5a3768a0e9",
   "metadata": {
    "jp-MarkdownHeadingCollapsed": true
   },
   "source": [
    "# lab Practice on 9 Oct"
   ]
  },
  {
   "cell_type": "markdown",
   "id": "5936471d-bde6-4c58-ba05-23b708018b8d",
   "metadata": {},
   "source": [
    "## OOPS"
   ]
  },
  {
   "cell_type": "markdown",
   "id": "d8957222-53e8-4699-97d3-e5a4c08c1e61",
   "metadata": {},
   "source": [
    "### OOPS is a programming paradigm that models real-world concepts as object\n",
    "###### 1.Key Features:-\n",
    "###### 2.Code organisation\n",
    "###### 3.Data modeling\n",
    "###### 4.Reusability\n",
    "###### 5.Maintainability\n"
   ]
  },
  {
   "cell_type": "code",
   "execution_count": null,
   "id": "664a29cb-d00c-4756-bb70-fec251d99cce",
   "metadata": {},
   "outputs": [],
   "source": []
  },
  {
   "cell_type": "code",
   "execution_count": 1,
   "id": "5d212b10-47a6-477c-8320-1d4a12ecf03b",
   "metadata": {},
   "outputs": [
    {
     "name": "stdout",
     "output_type": "stream",
     "text": [
      "Name: Ram\n",
      "Phone: 123456789\n",
      "Address: pune\n",
      "Name: sham\n",
      "Phone: 1234789\n",
      "Address: goa\n"
     ]
    }
   ],
   "source": [
    "class Phonebook:\n",
    "    strName = \" \"\n",
    "    strPhone = \" \"\n",
    "    strAddress = \" \"\n",
    "\n",
    "    def __init__(self, name, phone, address):\n",
    "        self.name = name\n",
    "        self.phone = phone\n",
    "        self.address = address\n",
    "\n",
    "    def set_value(self, name, phone, address):\n",
    "        self.name = name\n",
    "        self.phone = phone\n",
    "        self.address = address\n",
    "\n",
    "    def display_phonebook(self):\n",
    "        print(\"Name:\", self.name)\n",
    "        print(\"Phone:\", self.phone)\n",
    "        print(\"Address:\", self.address)\n",
    "\n",
    "if __name__ == \"__main__\":\n",
    "    objphonebook1 = Phonebook(\"Ram\", \"123456789\",\"pune\")\n",
    "    objphonebook2 = Phonebook(\"sham\", \"1234789\",\"goa\")\n",
    "    objphonebook1.display_phonebook()\n",
    "    objphonebook2.display_phonebook()\n"
   ]
  },
  {
   "cell_type": "code",
   "execution_count": null,
   "id": "459b4aa5-410c-4507-89cc-8bc11b6df9ae",
   "metadata": {},
   "outputs": [],
   "source": []
  },
  {
   "cell_type": "markdown",
   "id": "bdcf1ef2-521c-4c38-948d-79401254e445",
   "metadata": {},
   "source": [
    "## -----------------Encapsulation----------------------------\n",
    "\n",
    "### Bundling data and methods so that they operate within the class\n",
    "##### 1. Improved security\n",
    "##### 2. Reduce Complexity\n",
    "##### 3. Improved code maintainability\n",
    "##### 4. Better collaboration\n",
    "##### 5. constructors\n",
    "##### 6. Getter and Setter method\n",
    "##### 7. Access Modifiers\n"
   ]
  },
  {
   "cell_type": "code",
   "execution_count": null,
   "id": "03f46f70-bb55-4215-ad3c-26b520a12438",
   "metadata": {},
   "outputs": [],
   "source": []
  },
  {
   "cell_type": "code",
   "execution_count": null,
   "id": "5661469f-ab2c-4a36-b1c6-c9c91113c6c9",
   "metadata": {},
   "outputs": [],
   "source": []
  },
  {
   "cell_type": "markdown",
   "id": "90dcd4f0-c000-4bd7-a0de-d58f2377684e",
   "metadata": {},
   "source": [
    "### Assignment 1: Create a class that simulates a simple bank account and allows basic bank operations. \n",
    "\n",
    "1. Class Name: BankAccount\n",
    "\n",
    "• Rate of interest\n",
    "\n",
    "• Bank Name\n",
    "\n",
    "• Account_holder (string)\n",
    "\n",
    "• Balance (float, initialized to 0.0)\n",
    "\n",
    "2. Methods: \n",
    "\n",
    "•Deposit(amount): Adds the given amount to the balance \n",
    "\n",
    "• withdraw(amount): Deducts the given amount from the balance if sufficient funds are available, otherwise, print \"Insufficient balance.\"\n",
    "\n",
    "• check_balance(): Prints the current balance \n",
    "\n",
    "• Create an account for a user (e.g., account1 = BankAccount(\"Alice\")), perform deposits, withdrawals, and check the balance."
   ]
  },
  {
   "cell_type": "code",
   "execution_count": 10,
   "id": "232c2fd1-0f95-4dba-b973-ed2e88cda40c",
   "metadata": {},
   "outputs": [
    {
     "name": "stdout",
     "output_type": "stream",
     "text": [
      "Deposited: $100.00\n",
      "Withdrew: $30.00\n",
      "Current balance: $70.00\n"
     ]
    }
   ],
   "source": [
    "class BankAccount:\n",
    "    interest_rate = 0.05  # Rate of interest\n",
    "    bank_name = \"My Bank\"  # Bank Name\n",
    "\n",
    "    def __init__(self, account_holder):\n",
    "        self.account_holder = account_holder  # Account holder's name\n",
    "        self.balance = 0.0  # Initial balance\n",
    "\n",
    "    def deposit(self, amount):\n",
    "        self.balance += amount  # Add amount to balance\n",
    "        print(f\"Deposited: ${amount:.2f}\")  # Print deposit confirmation\n",
    "\n",
    "    def withdraw(self, amount):\n",
    "        if amount <= self.balance:\n",
    "            self.balance -= amount  # Deduct amount from balance\n",
    "            print(f\"Withdrew: ${amount:.2f}\")  # Print withdrawal confirmation\n",
    "        else:\n",
    "            print(\"Insufficient balance.\")  # Insufficient funds message\n",
    "\n",
    "    def check_balance(self):\n",
    "        print(f\"Current balance: ${self.balance:.2f}\")  # Display current balance\n",
    "\n",
    "# Usage example\n",
    "account1 = BankAccount(\"Alice\")  # Create account for Alice\n",
    "account1.deposit(100)  # Deposit $100\n",
    "account1.withdraw(30)  # Withdraw $30\n",
    "account1.check_balance()  # Check balance\n"
   ]
  },
  {
   "cell_type": "markdown",
   "id": "8c108fa0-76ff-4aa0-83fb-de65e468430f",
   "metadata": {
    "jp-MarkdownHeadingCollapsed": true
   },
   "source": [
    "# lab Practice on 10 Oct"
   ]
  },
  {
   "cell_type": "markdown",
   "id": "e9e25867-9f39-481f-b08d-2f4789608157",
   "metadata": {},
   "source": [
    "## Inheritance\n",
    "### Inheritance is a mechanism by which a child class acquires the characteristics of a parent class"
   ]
  },
  {
   "cell_type": "markdown",
   "id": "a019631a-72bc-467c-9ab9-14a4342ea858",
   "metadata": {},
   "source": [
    "### Inheritance Example-1"
   ]
  },
  {
   "cell_type": "code",
   "execution_count": null,
   "id": "9f7cbf86-9ffc-48e5-8c21-5329a7b70b45",
   "metadata": {},
   "outputs": [],
   "source": []
  },
  {
   "cell_type": "markdown",
   "id": "95fd26c6-c2ce-4c73-a9c4-2634bcc56619",
   "metadata": {},
   "source": [
    "### ASSIGNMENT-1  Assignment 1: Calculate area based on shape.\n",
    "\n",
    "1. Create a parent class to ask for the shape \n",
    "2.Create a sub for calculating area of shape\n",
    "\n",
    "Class shape \n",
    "1. Attributes : shape_name= \" \"\n",
    "2. Method : user_shape()\n",
    "3.  As user what shape to work with.\n",
    "\n",
    " Class shape area(shape)\n",
    " \n",
    " Attributes : area\n",
    " Method : calculate_area() -based on shape use if else statement to ask for radius/length/breadth from user.\n",
    "\n",
    "\n",
    " calculate area appropriately\n",
    " display_area()\n",
    " print name of shape (use shape name variable value from class shape.\n",
    " \n",
    " print area"
   ]
  },
  {
   "cell_type": "code",
   "execution_count": null,
   "id": "4c6966ce-bc86-4119-8a0c-d2638d21da05",
   "metadata": {},
   "outputs": [],
   "source": [
    "class Shape:\n",
    "    def user_shape(self):\n",
    "        self.shape_name = input(\"Enter the shape (circle, rectangle, or triangle): \").lower()\n",
    "\n",
    "class Area(Shape):\n",
    "    def calculate_area(self):\n",
    "        if self.shape_name == \"circle\":\n",
    "            radius = float(input(\"Enter the radius: \"))\n",
    "            area = 3.14 * radius ** 2\n",
    "        elif self.shape_name == \"rectangle\":\n",
    "            length = float(input(\"Enter the length: \"))\n",
    "            width = float(input(\"Enter the width: \"))\n",
    "            area = length * width\n",
    "        elif self.shape_name == \"triangle\":\n",
    "            base = float(input(\"Enter the base: \"))\n",
    "            height = float(input(\"Enter the height: \"))\n",
    "            area = 0.5 * base * height\n",
    "        else:\n",
    "            area = None\n",
    "            print(\"Invalid shape.\")\n",
    "\n",
    "        if area is not None:\n",
    "            print(f\"Shape: {self.shape_name.capitalize()}, Area: {area}\")\n",
    "\n",
    "# Usage\n",
    "shape = Area()\n",
    "shape.user_shape()\n",
    "shape.calculate_area()\n",
    "\n"
   ]
  },
  {
   "cell_type": "markdown",
   "id": "54e26011-442f-4b85-ae60-f9044d946f23",
   "metadata": {},
   "source": [
    "## Polymorphism- It is the ability of a metod to take on many forms\n",
    "\n",
    "### Overriding - \n",
    "\n",
    "#### 1. Allows the subclass to modify or extend the behaviour of the  inherited method\n",
    "#### 2. Helps avoid redundant code bby leveraging inherited method\n",
    "\n",
    "### Overloading -\n",
    "#### 1. Refers to defining multiple methods with the same name but different parameters.\n",
    "####  2. Not directly supported in Python, but can be simulated using default arguments."
   ]
  },
  {
   "cell_type": "markdown",
   "id": "015a9870-d544-4308-9a98-894dd0ffbe26",
   "metadata": {},
   "source": [
    "class Animal:\n",
    "    def speak(self):\n",
    "        print(\"Animal speaks\")\n",
    "\n",
    "class Dog(Animal):\n",
    "    def speak(self):  # Method overriding\n",
    "        print(\"Dog barks\")\n",
    "\n",
    "class Cat(Animal):\n",
    "    def speak(self):  # Method overriding\n",
    "        print(\"Cat meows\")\n",
    "\n",
    "def animal_sound(animal: Animal):\n",
    "    animal.speak()  # Polymorphism in action\n",
    "\n",
    "###Usage\n",
    "dog = Dog()\n",
    "cat = Cat()\n",
    "animal_sound(dog)  # Output: Dog barks\n",
    "animal_sound(cat)  # Output: Cat meows\n"
   ]
  },
  {
   "cell_type": "markdown",
   "id": "128a8e32-eb94-4118-b06f-84422030b485",
   "metadata": {},
   "source": [
    "### EXAMPLE of  Overriding"
   ]
  },
  {
   "cell_type": "code",
   "execution_count": 11,
   "id": "ed368e62-0fb1-4272-9bf7-98c15f764a97",
   "metadata": {},
   "outputs": [
    {
     "name": "stdout",
     "output_type": "stream",
     "text": [
      "Dog barks\n",
      "Cat meows\n"
     ]
    }
   ],
   "source": [
    "class Animal:\n",
    "    def speak(self):\n",
    "        print(\"Animal speaks\")\n",
    "\n",
    "class Dog(Animal):\n",
    "    def speak(self):  # Method overriding\n",
    "        print(\"Dog barks\")\n",
    "\n",
    "class Cat(Animal):\n",
    "    def speak(self):  # Method overriding\n",
    "        print(\"Cat meows\")\n",
    "\n",
    "def animal_sound(animal: Animal):\n",
    "    animal.speak()  # Polymorphism in action\n",
    "\n",
    "# Usage\n",
    "dog = Dog()\n",
    "cat = Cat()\n",
    "animal_sound(dog)  # Output: Dog barks\n",
    "animal_sound(cat)  # Output: Cat meows\n",
    "\n",
    "\n",
    "\n",
    "\n",
    "###  Summary\n",
    "## Polymorphism is demonstrated through the animal_sound function, which calls the speak method on different animal objects.\n",
    "## Overriding occurs when Dog and Cat classes provide their own implementations of the speak method.\n"
   ]
  },
  {
   "cell_type": "markdown",
   "id": "3a610a59-5734-4ef4-b10d-23e02bc94977",
   "metadata": {},
   "source": [
    "###  EXAMPLE of Overloading"
   ]
  },
  {
   "cell_type": "code",
   "execution_count": 12,
   "id": "111c18e2-57c9-4c5e-8f87-fb357844179c",
   "metadata": {},
   "outputs": [
    {
     "name": "stdout",
     "output_type": "stream",
     "text": [
      "5\n",
      "14\n"
     ]
    }
   ],
   "source": [
    "class MathOperations:\n",
    "    def add(self, *args):  # Variable-length arguments\n",
    "        return sum(args)\n",
    "\n",
    "# Usage\n",
    "math_op = MathOperations()\n",
    "\n",
    "print(math_op.add(2, 3))         # Output: 5\n",
    "print(math_op.add(2, 3, 4, 5))   # Output: 14\n"
   ]
  },
  {
   "cell_type": "code",
   "execution_count": null,
   "id": "f69571c9-2453-4cd0-9989-aabf7086e10e",
   "metadata": {},
   "outputs": [],
   "source": []
  },
  {
   "cell_type": "markdown",
   "id": "5e4ca7bf-554b-4329-8802-136deaf8c778",
   "metadata": {},
   "source": [
    "### Assignment-2   Assignment 2: Car Class and Inheritance\n",
    "Question:\n",
    "Define a Car class that initializes with the car's make, model, and distance traveled.\n",
    "\n",
    "It should have a calculate_mileage() method that prints a placeholder statement.\n",
    "Include a get_car_details() method that returns the car's details.\n",
    "Define an ElectricVehicle class that inherits from Car:\n",
    "\n",
    "Initialize with the car's make, model, distance traveled, and energy consumed.\n",
    "Override the calculate_mileage() method to calculate mileage using the formula for electric vehicles.\n",
    "Define a FuelCar class that also inherits from Car:\n",
    "\n",
    "Initialize with the car's make, model, distance traveled, and fuel consumed.\n",
    "Override the calculate_mileage() method to calculate mileage using the formula for fuel cars.\n",
    "\n",
    "Write a script that:\n",
    "\n",
    "Creates one object for each type of car (ElectricVehicle and FuelCar).\n",
    "Uses the calculate_mileage() method to print the mileage for both cars, demonstrating polymorphism."
   ]
  },
  {
   "cell_type": "code",
   "execution_count": 13,
   "id": "b708f6da-e413-4035-98a8-40c953c5a056",
   "metadata": {},
   "outputs": [
    {
     "name": "stdout",
     "output_type": "stream",
     "text": [
      "Electric Vehicle Mileage: 5.00 km/kWh\n",
      "Fuel Car Mileage: 15.00 km/l\n"
     ]
    }
   ],
   "source": [
    "class Car:\n",
    "    def __init__(self, make, model, distance_travelled):\n",
    "        self.make = make                                        # Car's make\n",
    "        self.model = model                                     # Car's model\n",
    "        self.distance_travelled = distance_travelled           # Distance travelled\n",
    "\n",
    "    def calculate_mileage(self):\n",
    "        print(\"Calculating mileage...\")                    # Placeholder for mileage calculation\n",
    "\n",
    "    def get_car_details(self):\n",
    "        return f\"{self.make} {self.model}, Distance: {self.distance_travelled} km\"\n",
    "\n",
    "\n",
    "class ElectricVehicle(Car):\n",
    "    def __init__(self, make, model, distance_travelled, energy_consumed):\n",
    "        super().__init__(make, model, distance_travelled)                           # Initialize parent class\n",
    "        self.energy_consumed = energy_consumed                                   # Energy consumed\n",
    "\n",
    "    def calculate_mileage(self):\n",
    "        mileage = self.distance_travelled / self.energy_consumed                            # EV mileage calculation\n",
    "        print(f\"Electric Vehicle Mileage: {mileage:.2f} km/kWh\")                         # Print mileage\n",
    "\n",
    "\n",
    "class FuelCar(Car):\n",
    "    def __init__(self, make, model, distance_travelled, fuel_consumed):\n",
    "        super().__init__(make, model, distance_travelled)          # Initialize parent class\n",
    "        self.fuel_consumed = fuel_consumed  # Fuel consumed\n",
    "\n",
    "    def calculate_mileage(self):\n",
    "        mileage = self.distance_travelled / self.fuel_consumed          # Fuel car mileage calculation\n",
    "        print(f\"Fuel Car Mileage: {mileage:.2f} km/l\")             # Print mileage\n",
    "\n",
    "\n",
    "# Script to demonstrate polymorphism\n",
    "ev = ElectricVehicle(\"Tesla\", \"Model S\", 500, 100)            # Create Electric Vehicle object\n",
    "fc = FuelCar(\"Toyota\", \"Camry\", 300, 20)            # Create Fuel Car object\n",
    "\n",
    "# Calculate mileage for both cars\n",
    "ev.calculate_mileage()  # Demonstrating polymorphism\n",
    "fc.calculate_mileage()  # Demonstrating polymorphism"
   ]
  },
  {
   "cell_type": "markdown",
   "id": "0f4b0fcc-f91a-4e56-be0a-e10fc4a07d2c",
   "metadata": {},
   "source": [
    "### Assignment-3  using super() keyword\n",
    "Class parent_A \n",
    "\n",
    "Attributes -num1 num2\n",
    "\n",
    "Method _init__   to get value of numbers \n",
    "\n",
    "• math_operation () add both number print result \n",
    "\n",
    "Class child_B \n",
    "\n",
    "Method math_operation () - multiply both numbers, print result\n",
    "\n",
    "Use super() keyword to add both numbers"
   ]
  },
  {
   "cell_type": "code",
   "execution_count": 14,
   "id": "fbdd7003-a766-4776-82cc-175ee433f456",
   "metadata": {},
   "outputs": [
    {
     "name": "stdout",
     "output_type": "stream",
     "text": [
      "Sum: 15\n",
      "Product: 50\n"
     ]
    }
   ],
   "source": [
    "class ParentA:\n",
    "    def __init__(self, num1, num2):\n",
    "        self.num1 = num1                # Initialize first number\n",
    "        self.num2 = num2                    # Initialize second number\n",
    "\n",
    "    def math_operation(self):\n",
    "        result = self.num1 + self.num2          # Add both numbers\n",
    "        print(f\"Sum: {result}\")                         # Print the result\n",
    "\n",
    "\n",
    "class ChildB(ParentA):\n",
    "    def math_operation(self):                                       \n",
    "        super().math_operation()                                  # Call the parent method to add numbers\n",
    "        result = self.num1 * self.num2                     # Multiply both numbers\n",
    "        print(f\"Product: {result}\")                          # Print the result\n",
    "\n",
    "\n",
    "# Example usage          \n",
    "numbers = ChildB(10, 5)                              # Create an instance of ChildB\n",
    "numbers.math_operation()                            # Perform the operations\n"
   ]
  },
  {
   "cell_type": "markdown",
   "id": "46aba8f5-9912-4ced-8e88-6bff158c6664",
   "metadata": {
    "jp-MarkdownHeadingCollapsed": true
   },
   "source": [
    "# lab Practice on 13 Oct"
   ]
  },
  {
   "cell_type": "markdown",
   "id": "90debbef-e7b7-402f-8031-e3ff139f74a2",
   "metadata": {},
   "source": [
    "### Assig-1 Replacing the word in the string"
   ]
  },
  {
   "cell_type": "code",
   "execution_count": 1,
   "id": "5720e646-7553-46ef-8374-bae2702506ae",
   "metadata": {},
   "outputs": [
    {
     "name": "stdout",
     "output_type": "stream",
     "text": [
      "Words  ['quick', 'brown', 'fox', 'jumps', 'over', 'a', 'lazy', 'dog']\n",
      "Updated : quick brown lion jumps over a lazy dog\n"
     ]
    }
   ],
   "source": [
    "\n",
    "\n",
    "string = \"quick brown fox jumps over a lazy dog\"\n",
    "\n",
    "# Split the string on spaces and store in a list\n",
    "words =string.split(' ')\n",
    "\n",
    "# Replace 'fox' with 'lion'\n",
    "updated_text = string.replace('fox', 'lion')\n",
    "\n",
    "# Results\n",
    "print(\"Words \", words)\n",
    "print(\"Updated :\", updated_text)\n"
   ]
  },
  {
   "cell_type": "markdown",
   "id": "21fcf873-0915-4e7d-8c97-24e2ee35ac35",
   "metadata": {},
   "source": [
    "### assig-2 Segeregate uppercsae and lowercase element from a list"
   ]
  },
  {
   "cell_type": "markdown",
   "id": "9036a4bd-c55c-441f-b098-3c4a915f6baa",
   "metadata": {},
   "source": [
    "# lab Practice on 14 Oct"
   ]
  },
  {
   "cell_type": "markdown",
   "id": "a311665f-c4f0-4f72-ad56-b9740b27efe8",
   "metadata": {},
   "source": [
    "# Revision Session on 15 oct\n"
   ]
  },
  {
   "cell_type": "markdown",
   "id": "c297e6ab-5de0-413e-ac19-7fe5a29933ef",
   "metadata": {},
   "source": [
    "### Assignment-1  Implement a function which takes an input of the string and return a string with unique characters"
   ]
  },
  {
   "cell_type": "code",
   "execution_count": 3,
   "id": "27b53955-cdef-405e-a2d6-2c31d6983bd0",
   "metadata": {},
   "outputs": [
    {
     "name": "stdout",
     "output_type": "stream",
     "text": [
      "['apel', 'anb', 'rhcye', 'gaMno']\n"
     ]
    }
   ],
   "source": [
    "\n",
    "def unique_character(my_list):\n",
    "    result = []  # Initialize an empty list to store results\n",
    "\n",
    "    for item in my_list:  # Loop through each item in the input list\n",
    "        unique_chars = set(item)  # Remove duplicates by converting to a set\n",
    "        unique_string = ''.join(unique_chars)  # Join the unique characters back into a string\n",
    "        result.append(unique_string)  # Add the result to the list\n",
    "\n",
    "    return result  # Return the list of unique character strings\n",
    "\n",
    "my_list = ['apple', 'banana', 'cherry', 'Mango']\n",
    "print(unique_character(my_list))\n",
    "\n",
    "\n",
    "\n",
    "##---------------------Shortcut Method-----------------------\n",
    "\n",
    "\n",
    "# def unique_character(my_list):\n",
    "#     return [''.join(set(item)) for item in my_list]\n",
    "#\n",
    "# my_list = ['apple', 'banana', 'cherry', 'Mango']\n",
    "# print(unique_character(my_list))\n",
    "\n",
    "\n"
   ]
  },
  {
   "cell_type": "markdown",
   "id": "f5f726ef-e8a2-4293-8b41-65a330e6fccf",
   "metadata": {},
   "source": [
    "### Assignment-1 Mask the sensitive Informations like E-mail and credit-card details"
   ]
  },
  {
   "cell_type": "code",
   "execution_count": 4,
   "id": "50d48c27-9966-4f68-8f44-8c632fc0e339",
   "metadata": {},
   "outputs": [
    {
     "name": "stdin",
     "output_type": "stream",
     "text": [
      "Enter the type of information (email/credit card):  email\n",
      "Enter the sensitive information:  csk@gmail.com\n"
     ]
    },
    {
     "name": "stdout",
     "output_type": "stream",
     "text": [
      "Masked information: c***k@gmail.com\n"
     ]
    }
   ],
   "source": [
    "def mask_sensitive_info(info, info_type):\n",
    "    if info_type == \"email\":\n",
    "        try:\n",
    "            local_part, domain = info.split('@')\n",
    "            if len(local_part) < 2:\n",
    "                raise ValueError(\"Invalid email format\")\n",
    "            masked_local = local_part[0] + '***' * (len(local_part) - 2) + local_part[-1]\n",
    "            return f\"{masked_local}@{domain}\"\n",
    "        except ValueError as ve:\n",
    "            raise ValueError(\"Invalid email format\") from ve\n",
    "        except Exception as e:\n",
    "            raise ValueError(\"An error occurred while processing the email\") from e\n",
    "\n",
    "    elif info_type == \"credit card\":\n",
    "        try:\n",
    "            sanitized_info = ''.join(filter(str.isdigit, info))\n",
    "            if len(sanitized_info) < 4:\n",
    "                raise ValueError(\"Invalid credit card format\")\n",
    "            masked_card = \"**** **** **** \" + sanitized_info[-4:]\n",
    "            return masked_card\n",
    "        except Exception as e:\n",
    "            raise ValueError(\"An error occurred while processing the credit card\") from e\n",
    "\n",
    "    else:\n",
    "        raise ValueError(\"Invalid info type\")\n",
    "\n",
    "\n",
    "# Main program to take user input\n",
    "if __name__ == \"__main__\":\n",
    "    try:\n",
    "        info_type = input(\"Enter the type of information (email/credit card): \").strip().lower()\n",
    "        info = input(\"Enter the sensitive information: \").strip()\n",
    "\n",
    "        masked_info = mask_sensitive_info(info, info_type)\n",
    "        print(\"Masked information:\", masked_info)\n",
    "    except ValueError as e:\n",
    "        print(e)\n"
   ]
  },
  {
   "cell_type": "markdown",
   "id": "73a92bf2-d121-4773-aaaf-e0c4c8b181f9",
   "metadata": {},
   "source": [
    "### Assignment-3 Reverse a list"
   ]
  },
  {
   "cell_type": "code",
   "execution_count": 5,
   "id": "db737097-38c6-4c12-9ef0-c436d008edf2",
   "metadata": {},
   "outputs": [
    {
     "name": "stdout",
     "output_type": "stream",
     "text": [
      "[9, 8, 7, 6, 5, 4, 3, 2, 1]\n"
     ]
    }
   ],
   "source": [
    "my_list=[1,2,3,4,5,6,7,8,9]\n",
    "reversed=my_list[::-1]\n",
    "print(reversed)"
   ]
  },
  {
   "cell_type": "markdown",
   "id": "2483cc32-5bb8-4a76-bc5d-b31a8db7d669",
   "metadata": {},
   "source": [
    "### Assignment-4  Find smallest and largest number by hard corded list\n"
   ]
  },
  {
   "cell_type": "code",
   "execution_count": 6,
   "id": "f805e258-eefa-4531-a396-d4ddf7faf85e",
   "metadata": {},
   "outputs": [
    {
     "name": "stdout",
     "output_type": "stream",
     "text": [
      "Largest Number is 90\n",
      "Smallest Number is 10\n"
     ]
    },
    {
     "name": "stdin",
     "output_type": "stream",
     "text": [
      "Enter a list with comma separated numbers:  1,2,3,4,5,6,7\n"
     ]
    },
    {
     "name": "stdout",
     "output_type": "stream",
     "text": [
      "Largest Number is: 7\n",
      "Smallest Number is: 1\n"
     ]
    }
   ],
   "source": [
    "# Find smallest and largest number by Hardcorded List\n",
    "\n",
    "my_list=[10,20,30,50,60,40,90]\n",
    "largest=max(my_list)\n",
    "smallest=min(my_list)\n",
    "print(f\"Largest Number is\",largest)\n",
    "print(f\"Smallest Number is\",smallest)\n",
    "\n",
    "\n",
    "\n",
    "# Find smallest and largest number by user input\n",
    "\n",
    "# Take input from the user\n",
    "my_list = input(\"Enter a list with comma separated numbers: \")\n",
    "\n",
    "# Split the input string into a list and convert to integers\n",
    "num_list = [int(num.strip()) for num in my_list.split(',')]\n",
    "\n",
    "# Find the largest and smallest numbers\n",
    "largest = max(num_list)\n",
    "smallest = min(num_list)\n",
    "\n",
    "# Print the results\n",
    "print(f\"Largest Number is: {largest}\")\n",
    "print(f\"Smallest Number is: {smallest}\")\n"
   ]
  },
  {
   "cell_type": "markdown",
   "id": "214de9df-baa7-403d-8949-34d41e625562",
   "metadata": {},
   "source": [
    "### Assignment-5 Hands on - Lists\n",
    "\n",
    "Assignment 5: Music Playlist Manager\n",
    "\n",
    "Initialize an empty list playlist to store song titles (strings)\n",
    "\n",
    "Implement the following operations as separate functions:\n",
    "\n",
    "* Add songs: Prompt user to enter song titles (comma-separated) add them to list.\n",
    "\n",
    "* Remove song: Prompt user for a song title and remove it from list if it exists.\n",
    "\n",
    "* View all songs: Display all songs in playlist, join them into a single string.\n",
    "\n",
    "* Slice playlist: Prompt user for start and end indices to display a sliced portion of the playlist.\n",
    "\n",
    "Add exception handling. Identify possible exception conditions."
   ]
  },
  {
   "cell_type": "code",
   "execution_count": null,
   "id": "d6ae8496-907f-4ca1-b736-e5723e21874f",
   "metadata": {},
   "outputs": [
    {
     "name": "stdout",
     "output_type": "stream",
     "text": [
      "\n",
      "Music Playlist Manager\n",
      "1. Add Songs\n",
      "2. Remove Song\n",
      "3. View All Songs\n",
      "4. Slice Playlist\n",
      "5. Exit\n"
     ]
    },
    {
     "name": "stdin",
     "output_type": "stream",
     "text": [
      "Choose an option (1-5):  1\n",
      "Enter song titles (comma-separated):  Baby,Heeriye\n"
     ]
    },
    {
     "name": "stdout",
     "output_type": "stream",
     "text": [
      "Songs added successfully!\n",
      "\n",
      "Music Playlist Manager\n",
      "1. Add Songs\n",
      "2. Remove Song\n",
      "3. View All Songs\n",
      "4. Slice Playlist\n",
      "5. Exit\n"
     ]
    },
    {
     "name": "stdin",
     "output_type": "stream",
     "text": [
      "Choose an option (1-5):  3\n"
     ]
    },
    {
     "name": "stdout",
     "output_type": "stream",
     "text": [
      "Current Playlist:\n",
      "Baby, Heeriye\n",
      "\n",
      "Music Playlist Manager\n",
      "1. Add Songs\n",
      "2. Remove Song\n",
      "3. View All Songs\n",
      "4. Slice Playlist\n",
      "5. Exit\n"
     ]
    }
   ],
   "source": [
    "def add_songs(playlist):\n",
    "    try:\n",
    "        songs = input(\"Enter song titles (comma-separated): \")\n",
    "        if songs.strip() == \"\":\n",
    "            raise ValueError(\"No song titles entered.\")\n",
    "        songs_list = [song.strip() for song in songs.split(',')]\n",
    "        playlist.extend(songs_list)\n",
    "        print(\"Songs added successfully!\")\n",
    "    except ValueError as e:\n",
    "        print(e)\n",
    "\n",
    "def remove_song(playlist):\n",
    "    try:\n",
    "        song_to_remove = input(\"Enter the song title to remove: \").strip()\n",
    "        if song_to_remove in playlist:\n",
    "            playlist.remove(song_to_remove)\n",
    "            print(f'Song \"{song_to_remove}\" removed successfully!')\n",
    "        else:\n",
    "            print(f'Song \"{song_to_remove}\" not found in the playlist.')\n",
    "    except Exception as e:\n",
    "        print(\"An error occurred:\", e)\n",
    "\n",
    "def view_all_songs(playlist):\n",
    "    if playlist:\n",
    "        print(\"Current Playlist:\")\n",
    "        print(\", \".join(playlist))\n",
    "    else:\n",
    "        print(\"The playlist is empty.\")\n",
    "\n",
    "def slice_playlist(playlist):\n",
    "    try:\n",
    "        start = int(input(\"Enter start index: \"))\n",
    "        end = int(input(\"Enter end index: \"))\n",
    "        if start < 0 or end > len(playlist) or start >= end:\n",
    "            raise IndexError(\"Invalid indices. Please ensure 0 <= start < end <= length of playlist.\")\n",
    "        sliced_playlist = playlist[start:end]\n",
    "        print(\"Sliced Playlist:\")\n",
    "        print(\", \".join(sliced_playlist))\n",
    "    except ValueError:\n",
    "        print(\"Please enter valid integers for indices.\")\n",
    "    except IndexError as e:\n",
    "        print(e)\n",
    "\n",
    "def main():\n",
    "    playlist = []\n",
    "    while True:\n",
    "        print(\"\\nMusic Playlist Manager\")\n",
    "        print(\"1. Add Songs\")\n",
    "        print(\"2. Remove Song\")\n",
    "        print(\"3. View All Songs\")\n",
    "        print(\"4. Slice Playlist\")\n",
    "        print(\"5. Exit\")\n",
    "\n",
    "        choice = input(\"Choose an option (1-5): \")\n",
    "        if choice == '1':\n",
    "            add_songs(playlist)\n",
    "        elif choice == '2':\n",
    "            remove_song(playlist)\n",
    "        elif choice == '3':\n",
    "            view_all_songs(playlist)\n",
    "        elif choice == '4':\n",
    "            slice_playlist(playlist)\n",
    "        elif choice == '5':\n",
    "            print(\"Exiting the Music Playlist Manager. Goodbye!\")\n",
    "            break\n",
    "        else:\n",
    "            print(\"Invalid choice. Please select a number between 1 and 5.\")\n",
    "\n",
    "if __name__ == \"__main__\":\n",
    "    main()\n"
   ]
  },
  {
   "cell_type": "markdown",
   "id": "09b7ca8f-8698-4792-b5d8-edc7d70015b0",
   "metadata": {},
   "source": [
    "### Assignment-6 Creating a shoping Cart use tuple and its method\n"
   ]
  },
  {
   "cell_type": "code",
   "execution_count": 1,
   "id": "f27a9b20-877c-49b4-b4e9-61eaa1bbedc3",
   "metadata": {},
   "outputs": [
    {
     "name": "stdout",
     "output_type": "stream",
     "text": [
      "('phone', 'laptop', 'Books', 'Mouse', 'Keyboard', 'Headphones')\n",
      "First item of the cart is:  phone\n",
      "Last item of the cart is: Headphones\n",
      "Combined cart is:  ('phone', 'laptop', 'Books', 'Mouse', 'Keyboard', 'Headphones', 'Tablet', 'smartphone')\n",
      "First item is:  phone\n",
      "Second item is:  laptop\n",
      "Third item is:  Books\n",
      "Fourth item is:  Mouse\n",
      "Fifth item is:  Headphones\n",
      "Sixth item is:  Tablet\n",
      "Seventh item is:  smartphone\n",
      "total count is:  1\n",
      "index is:  4\n"
     ]
    }
   ],
   "source": [
    "\n",
    "my_tuple=(\"phone\", \"laptop\", \"Books\", \"Mouse\",\"Keyboard\", \"Headphones\")\n",
    "\n",
    "\n",
    "# Print the Tuple\n",
    "\n",
    "print(my_tuple)\n",
    "\n",
    "# Access and print the first item\n",
    "\n",
    "ist_item=my_tuple[0]\n",
    "print(f\"First item of the cart is: \",ist_item)\n",
    "\n",
    "# Access and print the last item of the tuple or a cart\n",
    "\n",
    "last_item=my_tuple[-1]\n",
    "print(f\"Last item of the cart is: {last_item}\")\n",
    "\n",
    "\n",
    "# take another tuple/cart  and add both cart/tuple\n",
    "\n",
    "my_tuple2=(\"Tablet\", 'smartphone')\n",
    "\n",
    "combined_cart=(my_tuple + my_tuple2)\n",
    "print(f\"Combined cart is: \",combined_cart)\n",
    "\n",
    "\n",
    "# unpack the shopping cart And print all to verify\n",
    "\n",
    "a,b,c,d,e,f,g,h=combined_cart\n",
    "print(f\"First item is: \",a)\n",
    "print(f\"Second item is: \",b)\n",
    "print(f\"Third item is: \",c)\n",
    "print(f\"Fourth item is: \",d)\n",
    "print(f\"Fifth item is: \",f)\n",
    "print(f\"Sixth item is: \",g)\n",
    "print(f\"Seventh item is: \",h)\n",
    "\n",
    "\n",
    "# Use th count() method to count the mouse\n",
    "\n",
    "Total=combined_cart.count(\"Mouse\")\n",
    "print(f\"total count is: \",Total)\n",
    "\n",
    "\n",
    "# use index method to find the index of Keyboard item\n",
    "\n",
    "index_is=combined_cart.index(\"Keyboard\")\n",
    "print(f\"index is: \",index_is)\n"
   ]
  },
  {
   "cell_type": "markdown",
   "id": "1107a258-8d8b-4c5d-8005-129e3497dad9",
   "metadata": {},
   "source": [
    "### Assignment-7  # Working on Dictionary"
   ]
  },
  {
   "cell_type": "code",
   "execution_count": 2,
   "id": "3bfdcb97-f4ad-4617-985e-15ee87f899c2",
   "metadata": {},
   "outputs": [
    {
     "name": "stdout",
     "output_type": "stream",
     "text": [
      "Total elements in the Dictionary: 4\n",
      "Marks of Pravin have been changed: {'mayura': 89, 'pravin': 100, 'ketaki': 95, 'chinmay': 99}\n",
      "After removing Ketaki: {'mayura': 89, 'pravin': 100, 'chinmay': 99}\n",
      "Sorted dictionary: {'chinmay': 99, 'mayura': 89, 'pravin': 100}\n"
     ]
    }
   ],
   "source": [
    "\n",
    "students_dict = {\"mayura\": 89, \"pravin\": 92, \"ketaki\": 95, \"chinmay\": 99}\n",
    "\n",
    "# Finding total number of students in the dict\n",
    "total = len(students_dict)\n",
    "print(f\"Total elements in the Dictionary: {total}\")\n",
    "\n",
    "# Change Pravin's marks\n",
    "\n",
    "students_dict[\"pravin\"] = 100\n",
    "print(f\"Marks of Pravin have been changed: {students_dict}\")\n",
    "\n",
    "# Remove Ketaki from the dictionary\n",
    "\n",
    "removed_marks = students_dict.pop(\"ketaki\")\n",
    "print(f\"After removing Ketaki: {students_dict}\")\n",
    "\n",
    "# Sort students alphabetically and convert back to a dictionary\n",
    "\n",
    "sorted_dict = dict(sorted(students_dict.items()))\n",
    "print(f\"Sorted dictionary: {sorted_dict}\")\n"
   ]
  },
  {
   "cell_type": "markdown",
   "id": "1d4f6558-2d5a-4195-93f0-f4200e9dd4d5",
   "metadata": {},
   "source": [
    "### Assignent-8  Working of Replace method"
   ]
  },
  {
   "cell_type": "code",
   "execution_count": null,
   "id": "534e3e3f-06af-43e8-bd0d-ae156d20a2df",
   "metadata": {},
   "outputs": [],
   "source": [
    "# Replace method\n",
    "\n",
    "\n",
    "def translate(input_string):\n",
    "    vowels = \"aeiouAEIOU\"\n",
    "    translated = input_string\n",
    "\n",
    "    for i in vowels:\n",
    "        if i in translated:  # Check if the vowel is in the string\n",
    "            translated = translated.replace(i, 'abc')\n",
    "\n",
    "    return translated\n",
    "\n",
    "# Example usage\n",
    "input_string = \"how are you\"\n",
    "translated_string = translate(input_string)\n",
    "print(translated_string)  # Output: habcw abcrabc yabcabc\n"
   ]
  },
  {
   "cell_type": "markdown",
   "id": "b6a11285-b3b1-4217-9a7e-cedf01c24680",
   "metadata": {},
   "source": [
    "### Assignment-9  Food Management using class"
   ]
  },
  {
   "cell_type": "code",
   "execution_count": 7,
   "id": "852aee98-6694-4f4e-9257-e8094c69cc14",
   "metadata": {},
   "outputs": [
    {
     "name": "stdout",
     "output_type": "stream",
     "text": [
      "Name: Biryani, Price: 500, Category: non_veg\n"
     ]
    }
   ],
   "source": [
    "class FoodItem:\n",
    "    def __init__(self, name: str, price: float, category: str):\n",
    "        self.name = name\n",
    "        self.price = price\n",
    "        self.category = category\n",
    "\n",
    "# Example usage\n",
    "var = FoodItem(\"Biryani\", 500, \"non_veg\")\n",
    "print(f\"Name: {var.name}, Price: {var.price}, Category: {var.category}\")\n"
   ]
  },
  {
   "cell_type": "markdown",
   "id": "481244b3-c3f7-4c23-b8ea-a941442aa750",
   "metadata": {},
   "source": [
    "### Asignment-10    Regular Expressions\n",
    "\n",
    "\n",
    "Read a csv file which has a records in the format:\n",
    "\n",
    "#unitid=1#temp=38#datetime=2024-09-21T15:30:00\n",
    "\n",
    "Create a regular expression for extracting datetime component\n",
    "\n",
    "Split datetime component into date and time components for each record in each row.\n",
    "\n",
    "Create a new csv file with the format #unitid=1#temp=38#date=2024-09-21#time=15:30:00\n",
    "\n",
    "Note: Use CSV methods to read and write to CSV file."
   ]
  },
  {
   "cell_type": "code",
   "execution_count": null,
   "id": "c5db2686-37ef-4d02-a2ec-b3e230d15d2e",
   "metadata": {},
   "outputs": [],
   "source": [
    "import re\n",
    "import csv\n",
    "\n",
    "# Define the regex pattern to extract datetime\n",
    "pattern = r'#datetime=(\\d{4}-\\d{2}-\\d{2})T(\\d{2}:\\d{2}:\\d{2})'\n",
    "\n",
    "# Read the input CSV file\n",
    "input_file = 'input.csv'  # Change this to your input file path\n",
    "output_file = 'output.csv'  # Change this to your output file path\n",
    "\n",
    "with open(input_file, mode='r') as infile, open(output_file, mode='w', newline='') as outfile:\n",
    "    reader = csv.reader(infile)\n",
    "    writer = csv.writer(outfile)\n",
    "\n",
    "    for row in reader:\n",
    "        for record in row:\n",
    "            # Find all matches for the datetime in the record\n",
    "            matches = re.findall(pattern, record)\n",
    "            if matches:\n",
    "                # Since findall returns a list of tuples, we can access the first match\n",
    "                date, time = matches[0]\n",
    "\n",
    "                # Create new record with date and time\n",
    "                new_record = re.sub(pattern, f'#date={date}#time={time}', record)\n",
    "\n",
    "                # Write the new record to the output file\n",
    "                writer.writerow([new_record])\n",
    "\n",
    "print(\"Processing complete. Check the output file.\")\n",
    "\n",
    "\n",
    "\n",
    "\n",
    "# Make input.csv        file content is  -------------           #unitid=1#temp=38#datetime=2024-09-21T15:30:00\n",
    "\n",
    "\n",
    "#  output.csv       final output is  ---------------                #unitid=1#temp=38#date=2024-09-21#time=15:30:00\n"
   ]
  },
  {
   "cell_type": "markdown",
   "id": "6b4097e4-5123-433f-ab22-746819ce7f21",
   "metadata": {},
   "source": [
    "### Assignment-11 Capatalize all elements of a list"
   ]
  },
  {
   "cell_type": "code",
   "execution_count": 5,
   "id": "6f4a5fcc-be20-41bb-b249-b926985d6728",
   "metadata": {},
   "outputs": [
    {
     "name": "stdout",
     "output_type": "stream",
     "text": [
      "['APPLE', 'BANANA', 'CHERRY']\n"
     ]
    }
   ],
   "source": [
    "my_list = [\"Apple\", \"Banana\", \"Cherry\"]\n",
    "\n",
    "# Convert each item to uppercase\n",
    "result = map(lambda x: x.upper(), my_list)\n",
    "\n",
    "# Convert the map object to a list and print\n",
    "print(list(result))\n",
    "\n"
   ]
  },
  {
   "cell_type": "markdown",
   "id": "16d069e6-9fd5-4f44-a0b0-0b91ff981045",
   "metadata": {},
   "source": [
    "### Assignment-12  find length of each string element that are present in a list"
   ]
  },
  {
   "cell_type": "code",
   "execution_count": 6,
   "id": "c39fe79f-78fd-4ea0-aef8-5c3ef7ef3640",
   "metadata": {},
   "outputs": [
    {
     "name": "stdout",
     "output_type": "stream",
     "text": [
      "[5, 6, 6]\n"
     ]
    }
   ],
   "source": [
    "\n",
    "my_list = [\"Apple\", \"Banana\", \"Cherry\"]\n",
    "\n",
    "result=map(lambda x: len(x), my_list)\n",
    "print(list(result))    #Should converted into list\n",
    "\n"
   ]
  },
  {
   "cell_type": "markdown",
   "id": "20b8aa6a-fe06-4ba9-a735-6c77eccbd311",
   "metadata": {},
   "source": [
    "### Assignment-13   Build a URL Shortener"
   ]
  },
  {
   "cell_type": "markdown",
   "id": "f7100352-cff0-4575-a96f-54a06e747566",
   "metadata": {},
   "source": [
    "# 16 Oct lab Practice + Revision"
   ]
  },
  {
   "cell_type": "markdown",
   "id": "5ba949ca-f7d9-4f32-9d76-318c03ed6ec2",
   "metadata": {},
   "source": [
    "###Assignment-1  write a recursive function that calculate the sum of digits of a given positive integer\n"
   ]
  },
  {
   "cell_type": "code",
   "execution_count": 1,
   "id": "a076b619-12ec-4d7e-b260-658a6d4eacdb",
   "metadata": {},
   "outputs": [
    {
     "name": "stdout",
     "output_type": "stream",
     "text": [
      "4\n"
     ]
    }
   ],
   "source": [
    "\n",
    "\n",
    "def sum_of_digits(n):\n",
    "    # Base case: if n is 0, return 0\n",
    "    if n == 0:\n",
    "        return 0\n",
    "\n",
    "    # Step 1: Find the last digit of n\n",
    "    last_digit = n % 10  # Get the last digit\n",
    "\n",
    "    # Step 2: Prepare the remaining number without the last digit\n",
    "    remaining_number = n // 10  # Remove the last digit\n",
    "\n",
    "    # Step 3: Call the function recursively on the remaining number\n",
    "    sum_of_remaining_digits = sum_of_digits(remaining_number)  # Get the sum of the remaining digits\n",
    "\n",
    "    # Step 4: Add the last digit to the sum of the remaining digits\n",
    "    total_sum = last_digit + sum_of_remaining_digits  # Combine the results\n",
    "\n",
    "    # Step 5: Return the total sum\n",
    "    return total_sum  # Return the final result\n",
    "\n",
    "print(sum_of_digits(1120)) #  call the fxn\n"
   ]
  },
  {
   "cell_type": "markdown",
   "id": "6112a20b-49fb-426b-b331-b3b11a568e5d",
   "metadata": {},
   "source": [
    "### Assignment-2   Reverse the string using recursive fxn"
   ]
  },
  {
   "cell_type": "code",
   "execution_count": null,
   "id": "e2fa0f44-abd2-4893-a5db-12c20467c806",
   "metadata": {},
   "outputs": [],
   "source": []
  }
 ],
 "metadata": {
  "kernelspec": {
   "display_name": "Python 3 (ipykernel)",
   "language": "python",
   "name": "python3"
  },
  "language_info": {
   "codemirror_mode": {
    "name": "ipython",
    "version": 3
   },
   "file_extension": ".py",
   "mimetype": "text/x-python",
   "name": "python",
   "nbconvert_exporter": "python",
   "pygments_lexer": "ipython3",
   "version": "3.12.3"
  }
 },
 "nbformat": 4,
 "nbformat_minor": 5
}
